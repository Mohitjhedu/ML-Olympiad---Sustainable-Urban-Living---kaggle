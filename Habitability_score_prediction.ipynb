{
 "cells": [
  {
   "cell_type": "code",
   "execution_count": 1,
   "id": "7722a962-9c9d-4003-8f1b-f2c39db5e513",
   "metadata": {
    "tags": []
   },
   "outputs": [],
   "source": [
    "import pandas as pd\n",
    "import numpy as np\n",
    "import seaborn as sns\n",
    "import matplotlib.pyplot as plt\n",
    "\n",
    "\n",
    "from sklearn.model_selection import train_test_split as tts\n",
    "from sklearn.preprocessing import OrdinalEncoder, OneHotEncoder, StandardScaler, MinMaxScaler \n",
    "from sklearn.impute import SimpleImputer\n",
    "\n",
    "from sklearn.linear_model import LinearRegression, Ridge , Lasso\n",
    "from sklearn.metrics import mean_absolute_error, r2_score, root_mean_squared_error"
   ]
  },
  {
   "cell_type": "code",
   "execution_count": null,
   "id": "a5b89130-9dd8-47c2-8058-0024c04a3c90",
   "metadata": {
    "tags": []
   },
   "outputs": [],
   "source": []
  },
  {
   "cell_type": "code",
   "execution_count": 139,
   "id": "6902834f-501b-4651-adcb-224b63c805e5",
   "metadata": {
    "tags": []
   },
   "outputs": [],
   "source": [
    "train_df = pd.read_csv('train.csv')\n",
    "test_df = pd.read_csv('test.csv')"
   ]
  },
  {
   "cell_type": "code",
   "execution_count": 3,
   "id": "37262ed7-b183-4132-a5d6-404b0066a45c",
   "metadata": {
    "tags": []
   },
   "outputs": [],
   "source": [
    "# evalution model define\n",
    "\n",
    "result = pd.DataFrame({'method':[],\n",
    "                      'train_r2':[],\n",
    "                      'test_r2':[],\n",
    "                      'train_adj_r2':[],\n",
    "                      'test_adj_r2':[],\n",
    "                      'train_mae':[],\n",
    "                      'test_mae':[]})\n",
    "\n",
    "def Evalution(method, x_train, x_test, y_train, y_test):\n",
    "    n_train, k_train = x_train.shape\n",
    "    n_test, k_test = x_test.shape\n",
    "    \n",
    "    \n",
    "    # model_fit\n",
    "    model = LinearRegression()\n",
    "    model.fit(x_train,y_train)\n",
    "    \n",
    "    # predict\n",
    "    y_train_pred = model.predict(x_train)\n",
    "    y_test_pred  = model.predict(x_test)\n",
    "    \n",
    "    #r2\n",
    "    train_r2 = r2_score(y_train, y_train_pred)\n",
    "    test_r2 = r2_score(y_test, y_test_pred)\n",
    "    \n",
    "    # adjr2\n",
    "    train_adj_r2 =  1 - ((1- train_r2) *(n_train -1) / (n_train - k_train - 1))\n",
    "    test_adj_r2 = 1 - ((1- test_r2) *(n_test -1) / (n_test - k_test - 1))\n",
    "    \n",
    "    # mae\n",
    "    \n",
    "    train_mae = mean_absolute_error(y_train, y_train_pred)\n",
    "    test_mae = mean_absolute_error(y_test, y_test_pred)\n",
    "    \n",
    "    temp_df = pd.DataFrame({'method':[method],\n",
    "                      'train_r2':[train_r2],\n",
    "                      'test_r2':[test_r2],\n",
    "                      'train_adj_r2':[train_adj_r2],\n",
    "                      'test_adj_r2':[test_adj_r2],\n",
    "                      'train_mae':[train_mae],\n",
    "                      'test_mae':[test_mae]})\n",
    "    \n",
    "    global result\n",
    "    result = pd.concat([result, temp_df])\n",
    "    \n",
    "    return result \n",
    "    \n"
   ]
  },
  {
   "cell_type": "markdown",
   "id": "b9dde68a-0a20-419e-bb24-6b576ceb8429",
   "metadata": {},
   "source": [
    "## Baseline model"
   ]
  },
  {
   "cell_type": "code",
   "execution_count": 4,
   "id": "013c0e62-28eb-4121-959b-6408877f7c26",
   "metadata": {
    "tags": []
   },
   "outputs": [],
   "source": [
    "# drop the null values and then tts baseline model  \n",
    "\n",
    "XX = train_df.dropna().drop(columns = 'Habitability_score')\n",
    "YY = train_df.dropna()['Habitability_score']"
   ]
  },
  {
   "cell_type": "code",
   "execution_count": 5,
   "id": "c9179b27-9657-43b8-97c7-a23aa7ea65bf",
   "metadata": {
    "tags": []
   },
   "outputs": [],
   "source": [
    "x_train_f, x_test_f, y_train_f, y_test_f = tts(XX,YY, random_state = 42, test_size = 0.20)"
   ]
  },
  {
   "cell_type": "code",
   "execution_count": 6,
   "id": "b32f9efc-5190-4a2e-b8c2-8431dc4fd961",
   "metadata": {
    "tags": []
   },
   "outputs": [
    {
     "data": {
      "text/plain": [
       "((21582, 14), (5396, 14), (21582,), (5396,))"
      ]
     },
     "execution_count": 6,
     "metadata": {},
     "output_type": "execute_result"
    }
   ],
   "source": [
    "x_train_f.shape, x_test_f.shape, y_train_f.shape, y_test_f.shape"
   ]
  },
  {
   "cell_type": "code",
   "execution_count": null,
   "id": "ad8a2808-e26b-467b-ad4b-12afc4a9d74a",
   "metadata": {
    "tags": []
   },
   "outputs": [],
   "source": []
  },
  {
   "cell_type": "code",
   "execution_count": 7,
   "id": "45b0229b-788a-4a43-9173-2622c9b0df18",
   "metadata": {
    "tags": []
   },
   "outputs": [],
   "source": [
    "# droping the unnecessary columns named id \n",
    "x_train_f.drop(columns = 'Id', inplace = True)\n",
    "x_test_f.drop(columns = 'Id', inplace = True)"
   ]
  },
  {
   "cell_type": "code",
   "execution_count": 8,
   "id": "da6336b3-1f05-4380-9248-053be68f1dea",
   "metadata": {
    "tags": []
   },
   "outputs": [],
   "source": [
    "cat_col = x_train_f.select_dtypes(include = \"O\").columns.tolist()\n",
    "num_col = x_train_f.select_dtypes(exclude = \"O\").columns.tolist()"
   ]
  },
  {
   "cell_type": "code",
   "execution_count": 9,
   "id": "107285ad-5672-409d-98f4-ec921a0d5354",
   "metadata": {
    "tags": []
   },
   "outputs": [
    {
     "data": {
      "text/plain": [
       "['Property_Type',\n",
       " 'Furnishing',\n",
       " 'Power_Backup',\n",
       " 'Water_Supply',\n",
       " 'Crime_Rate',\n",
       " 'Dust_and_Noise']"
      ]
     },
     "execution_count": 9,
     "metadata": {},
     "output_type": "execute_result"
    }
   ],
   "source": [
    "cat_col"
   ]
  },
  {
   "cell_type": "code",
   "execution_count": 10,
   "id": "78621af6-4e7f-4b49-931d-ed9fe6361520",
   "metadata": {
    "tags": []
   },
   "outputs": [
    {
     "data": {
      "text/plain": [
       "['Property_Area',\n",
       " 'Number_of_Windows',\n",
       " 'Number_of_Doors',\n",
       " 'Frequency_of_Powercuts',\n",
       " 'Traffic_Density_Score',\n",
       " 'Air_Quality_Index',\n",
       " 'Neighborhood_Review']"
      ]
     },
     "execution_count": 10,
     "metadata": {},
     "output_type": "execute_result"
    }
   ],
   "source": [
    "num_col"
   ]
  },
  {
   "cell_type": "code",
   "execution_count": 11,
   "id": "c7afeea9-d684-492c-b8a2-04b3dc710fd4",
   "metadata": {
    "tags": []
   },
   "outputs": [
    {
     "name": "stdout",
     "output_type": "stream",
     "text": [
      "Property_Type--- \n",
      "    Apartment             11673\n",
      "Single-family home     9146\n",
      "Duplex                 4671\n",
      "Bungalow               3392\n",
      "Container Home         2310\n",
      "#R%$G&867               407\n",
      "Name: Property_Type, dtype: int64\n",
      "\n",
      "\n",
      "Furnishing--- \n",
      "    Semi_Furnished     16314\n",
      "Unfurnished         8279\n",
      "Fully Furnished     6178\n",
      "Name: Furnishing, dtype: int64\n",
      "\n",
      "\n",
      "Power_Backup--- \n",
      "    No               23796\n",
      "Yes               7124\n",
      "NOT MENTIONED      679\n",
      "Name: Power_Backup, dtype: int64\n",
      "\n",
      "\n",
      "Water_Supply--- \n",
      "    All time                   15585\n",
      "Once in a day - Morning     7887\n",
      "Once in a day - Evening     6300\n",
      "Once in two days            1569\n",
      "NOT MENTIONED                258\n",
      "Name: Water_Supply, dtype: int64\n",
      "\n",
      "\n",
      "Crime_Rate--- \n",
      "    Well below average        15533\n",
      "Slightly below average     9334\n",
      "Slightly above average     4216\n",
      "Well above average         1887\n",
      "Name: Crime_Rate, dtype: int64\n",
      "\n",
      "\n",
      "Dust_and_Noise--- \n",
      "    Medium    26376\n",
      "High       2572\n",
      "Low        1652\n",
      "Name: Dust_and_Noise, dtype: int64\n",
      "\n",
      "\n"
     ]
    }
   ],
   "source": [
    "for i in cat_col:\n",
    "    print(f'''{i}--- \n",
    "    {train_df[i].value_counts()}''')\n",
    "    print()\n",
    "    print()"
   ]
  },
  {
   "cell_type": "code",
   "execution_count": 12,
   "id": "070152e1-7ccd-4583-8fb7-d98cd5f13009",
   "metadata": {
    "tags": []
   },
   "outputs": [],
   "source": [
    "## Encoding "
   ]
  },
  {
   "cell_type": "code",
   "execution_count": 13,
   "id": "e1be5db2-a412-4649-9aa9-1ed5c9954a23",
   "metadata": {
    "tags": []
   },
   "outputs": [],
   "source": [
    "# sorting the columns in between ord and ohe\n",
    "ohe_col = ['Property_Type','Power_Backup','Water_Supply']\n",
    "ord_col = ['Furnishing','Crime_Rate','Dust_and_Noise']"
   ]
  },
  {
   "cell_type": "code",
   "execution_count": 14,
   "id": "67d35616-9bc5-4612-bf4a-65526a48b8d6",
   "metadata": {
    "tags": []
   },
   "outputs": [],
   "source": [
    "ord = OrdinalEncoder(categories = [['Unfurnished','Semi_Furnished','Fully Furnished'],\n",
    "                                   ['Well below average','Slightly below average','Slightly above average','Well above average'],\n",
    "                                  ['Low','Medium','High']], handle_unknown = 'use_encoded_value', unknown_value = -1)\n",
    "\n",
    "x_train_ord = pd.DataFrame(ord.fit_transform(x_train_f[ord_col]), index = x_train_f.index, columns = ord_col)\n",
    "x_test_ord = pd.DataFrame(ord.transform(x_test_f[ord_col]), index = x_test_f.index, columns = ord_col)"
   ]
  },
  {
   "cell_type": "code",
   "execution_count": null,
   "id": "4be9cd97-d5e4-444d-a223-f8a2b06b7df7",
   "metadata": {},
   "outputs": [],
   "source": []
  },
  {
   "cell_type": "code",
   "execution_count": 15,
   "id": "8d855622-810d-4e3d-887c-b7852ae78ca4",
   "metadata": {
    "tags": []
   },
   "outputs": [],
   "source": [
    "ohe = OneHotEncoder(sparse_output = False,  handle_unknown ='ignore')\n",
    "x_train_ohe = pd.DataFrame(ohe.fit_transform(x_train_f[ohe_col]), index = x_train_f.index, columns = ohe.get_feature_names_out())\n",
    "x_test_ohe = pd.DataFrame(ohe.transform(x_test_f[ohe_col]), index = x_test_f.index, columns = ohe.get_feature_names_out())"
   ]
  },
  {
   "cell_type": "code",
   "execution_count": 16,
   "id": "b7968216-59d7-491f-9bd2-7c99c5726481",
   "metadata": {
    "tags": []
   },
   "outputs": [
    {
     "data": {
      "text/plain": [
       "(21582, 13)"
      ]
     },
     "execution_count": 16,
     "metadata": {},
     "output_type": "execute_result"
    }
   ],
   "source": [
    "x_train_f.shape"
   ]
  },
  {
   "cell_type": "code",
   "execution_count": 17,
   "id": "73473805-d17a-438f-9373-9438d504d745",
   "metadata": {
    "tags": []
   },
   "outputs": [],
   "source": [
    "# concat ord ohe and num columns \n",
    "\n",
    "x_train_1 = pd.concat([pd.concat([x_train_ord,x_train_ohe], axis = 1), x_train_f[num_col]], axis = 1)\n",
    "x_test_1 = pd.concat([pd.concat([x_test_ord,x_test_ohe], axis = 1), x_test_f[num_col]], axis = 1)"
   ]
  },
  {
   "cell_type": "code",
   "execution_count": null,
   "id": "8c6cac32-7a8e-414b-aad7-bee5a82d4864",
   "metadata": {
    "tags": []
   },
   "outputs": [],
   "source": []
  },
  {
   "cell_type": "code",
   "execution_count": 18,
   "id": "b3f8d4a7-9d10-49f8-8594-f9cae779dc28",
   "metadata": {
    "tags": []
   },
   "outputs": [
    {
     "data": {
      "text/html": [
       "<div>\n",
       "<style scoped>\n",
       "    .dataframe tbody tr th:only-of-type {\n",
       "        vertical-align: middle;\n",
       "    }\n",
       "\n",
       "    .dataframe tbody tr th {\n",
       "        vertical-align: top;\n",
       "    }\n",
       "\n",
       "    .dataframe thead th {\n",
       "        text-align: right;\n",
       "    }\n",
       "</style>\n",
       "<table border=\"1\" class=\"dataframe\">\n",
       "  <thead>\n",
       "    <tr style=\"text-align: right;\">\n",
       "      <th></th>\n",
       "      <th>method</th>\n",
       "      <th>train_r2</th>\n",
       "      <th>test_r2</th>\n",
       "      <th>train_adj_r2</th>\n",
       "      <th>test_adj_r2</th>\n",
       "      <th>train_mae</th>\n",
       "      <th>test_mae</th>\n",
       "    </tr>\n",
       "  </thead>\n",
       "  <tbody>\n",
       "    <tr>\n",
       "      <th>0</th>\n",
       "      <td>baseline</td>\n",
       "      <td>0.584668</td>\n",
       "      <td>0.57545</td>\n",
       "      <td>0.584206</td>\n",
       "      <td>0.573553</td>\n",
       "      <td>7.32635</td>\n",
       "      <td>7.449752</td>\n",
       "    </tr>\n",
       "  </tbody>\n",
       "</table>\n",
       "</div>"
      ],
      "text/plain": [
       "     method  train_r2  test_r2  train_adj_r2  test_adj_r2  train_mae  test_mae\n",
       "0  baseline  0.584668  0.57545      0.584206     0.573553    7.32635  7.449752"
      ]
     },
     "execution_count": 18,
     "metadata": {},
     "output_type": "execute_result"
    }
   ],
   "source": [
    "Evalution('baseline',x_train_1,x_test_1,y_train_f,y_test_f)"
   ]
  },
  {
   "cell_type": "code",
   "execution_count": null,
   "id": "4ecf2854-8a56-404b-8df6-48626a765857",
   "metadata": {
    "tags": []
   },
   "outputs": [],
   "source": []
  },
  {
   "cell_type": "markdown",
   "id": "d41f6693-5058-4b80-80fd-d9bb473bdf2c",
   "metadata": {},
   "source": [
    "## Impute Null Values"
   ]
  },
  {
   "cell_type": "code",
   "execution_count": 19,
   "id": "7caec136-65cc-4ccb-ab09-a847e06e53c0",
   "metadata": {
    "tags": []
   },
   "outputs": [],
   "source": [
    "# checking is there any missing vlaues in data set or not and then find the the columns name that have na vlaues \n",
    "missing_value = train_df.isnull().mean() * 100\n",
    "na_col = missing_value[missing_value>0].index"
   ]
  },
  {
   "cell_type": "code",
   "execution_count": 20,
   "id": "0d86b125-ab81-460c-9792-ad1a464ce724",
   "metadata": {
    "tags": []
   },
   "outputs": [
    {
     "data": {
      "text/plain": [
       "Index(['Number_of_Windows', 'Furnishing', 'Frequency_of_Powercuts',\n",
       "       'Crime_Rate', 'Dust_and_Noise'],\n",
       "      dtype='object')"
      ]
     },
     "execution_count": 20,
     "metadata": {},
     "output_type": "execute_result"
    }
   ],
   "source": [
    "na_col"
   ]
  },
  {
   "cell_type": "code",
   "execution_count": 21,
   "id": "8fff1ce0-c573-4ce0-9298-a3e5493d283e",
   "metadata": {
    "tags": []
   },
   "outputs": [
    {
     "data": {
      "text/plain": [
       "0"
      ]
     },
     "execution_count": 21,
     "metadata": {},
     "output_type": "execute_result"
    }
   ],
   "source": [
    "# checking is there any duplicates in the dataset or not \n",
    "train_df.duplicated().sum()"
   ]
  },
  {
   "cell_type": "code",
   "execution_count": 22,
   "id": "b3b4e93e-e257-4d37-9478-af7b1dcddff7",
   "metadata": {
    "tags": []
   },
   "outputs": [],
   "source": [
    "x = train_df.drop(columns = 'Habitability_score')\n",
    "y = train_df['Habitability_score']"
   ]
  },
  {
   "cell_type": "code",
   "execution_count": 23,
   "id": "e009776c-1e7b-46e5-949c-bc9e904394a7",
   "metadata": {
    "tags": []
   },
   "outputs": [],
   "source": [
    "x_train, x_test, y_train, y_test = tts(x,y, random_state = 42, test_size = 0.20)"
   ]
  },
  {
   "cell_type": "code",
   "execution_count": 24,
   "id": "71882289-e45a-4c6d-b558-5358d1d6096a",
   "metadata": {
    "tags": []
   },
   "outputs": [
    {
     "data": {
      "text/plain": [
       "((25279, 14), (6320, 14), (25279,), (6320,))"
      ]
     },
     "execution_count": 24,
     "metadata": {},
     "output_type": "execute_result"
    }
   ],
   "source": [
    "x_train.shape, x_test.shape, y_train.shape, y_test.shape"
   ]
  },
  {
   "cell_type": "code",
   "execution_count": 25,
   "id": "5c8aa51f-80d4-4915-87e3-609bef8a3b38",
   "metadata": {
    "tags": []
   },
   "outputs": [],
   "source": [
    "# drop id column\n",
    "x_train.drop(columns = 'Id', inplace = True)\n",
    "x_test.drop(columns = 'Id', inplace = True)"
   ]
  },
  {
   "cell_type": "code",
   "execution_count": 26,
   "id": "2c0d8f6f-490e-4215-98f9-0a968401a05a",
   "metadata": {
    "tags": []
   },
   "outputs": [
    {
     "name": "stderr",
     "output_type": "stream",
     "text": [
      "C:\\Users\\HP\\AppData\\Local\\Temp\\ipykernel_10184\\1567878777.py:3: FutureWarning: The default value of numeric_only in DataFrame.corr is deprecated. In a future version, it will default to False. Select only valid columns or specify the value of numeric_only to silence this warning.\n",
      "  sns.heatmap(train_df.corr(), annot = True)\n"
     ]
    },
    {
     "data": {
      "text/plain": [
       "<Axes: >"
      ]
     },
     "execution_count": 26,
     "metadata": {},
     "output_type": "execute_result"
    },
    {
     "data": {
      "image/png": "[encoded data removed]",
      "text/plain": [
       "<Figure size 1000x400 with 2 Axes>"
      ]
     },
     "metadata": {},
     "output_type": "display_data"
    }
   ],
   "source": [
    "# checking data \n",
    "plt.figure(figsize = (10,4))\n",
    "sns.heatmap(train_df.corr(), annot = True)"
   ]
  },
  {
   "cell_type": "code",
   "execution_count": 27,
   "id": "93a28734-5f9d-4897-8637-df77756da54c",
   "metadata": {},
   "outputs": [],
   "source": [
    "# handel missing values "
   ]
  },
  {
   "cell_type": "code",
   "execution_count": 28,
   "id": "9b78c56b-c74f-4c08-9b05-e10587ad91f8",
   "metadata": {
    "tags": []
   },
   "outputs": [
    {
     "data": {
      "text/plain": [
       "Number_of_Windows         4.074528\n",
       "Furnishing                2.563393\n",
       "Frequency_of_Powercuts    3.564223\n",
       "Crime_Rate                1.922544\n",
       "Dust_and_Noise            3.125124\n",
       "dtype: float64"
      ]
     },
     "execution_count": 28,
     "metadata": {},
     "output_type": "execute_result"
    }
   ],
   "source": [
    "x_train[na_col].isnull().mean()*100"
   ]
  },
  {
   "cell_type": "code",
   "execution_count": 29,
   "id": "f06e1a77-aee1-45e5-80ab-d66492bb7ae9",
   "metadata": {
    "tags": []
   },
   "outputs": [
    {
     "data": {
      "text/plain": [
       "Number_of_Windows         4.794304\n",
       "Furnishing                2.848101\n",
       "Frequency_of_Powercuts    3.291139\n",
       "Crime_Rate                2.262658\n",
       "Dust_and_Noise            3.306962\n",
       "dtype: float64"
      ]
     },
     "execution_count": 29,
     "metadata": {},
     "output_type": "execute_result"
    }
   ],
   "source": [
    "x_test[na_col].isnull().mean()*100"
   ]
  },
  {
   "cell_type": "code",
   "execution_count": 30,
   "id": "37599255-6368-4cad-a77f-97ab60af1aca",
   "metadata": {
    "tags": []
   },
   "outputs": [
    {
     "data": {
      "image/png": "[encoded data removed]",
      "text/plain": [
       "<Figure size 640x480 with 1 Axes>"
      ]
     },
     "metadata": {},
     "output_type": "display_data"
    },
    {
     "data": {
      "image/png": "[encoded data removed]",
      "text/plain": [
       "<Figure size 640x480 with 1 Axes>"
      ]
     },
     "metadata": {},
     "output_type": "display_data"
    }
   ],
   "source": [
    "for i in x_train[na_col[0:3:2]].columns:\n",
    "    sns.kdeplot(x_train[i])\n",
    "    plt.show()"
   ]
  },
  {
   "cell_type": "code",
   "execution_count": 31,
   "id": "9636af51-903e-438d-832d-57ad762253b7",
   "metadata": {
    "tags": []
   },
   "outputs": [
    {
     "data": {
      "image/png": "[encoded data removed]",
      "text/plain": [
       "<Figure size 1000x400 with 1 Axes>"
      ]
     },
     "metadata": {},
     "output_type": "display_data"
    },
    {
     "data": {
      "image/png": "[encoded data removed]",
      "text/plain": [
       "<Figure size 1000x400 with 1 Axes>"
      ]
     },
     "metadata": {},
     "output_type": "display_data"
    },
    {
     "data": {
      "image/png": "[encoded data removed]",
      "text/plain": [
       "<Figure size 1000x400 with 1 Axes>"
      ]
     },
     "metadata": {},
     "output_type": "display_data"
    }
   ],
   "source": [
    "for i in x_train[na_col[[1,3,4]]].columns:\n",
    "    plt.figure(figsize = (10,4))\n",
    "    sns.countplot(x_train, x = i)\n",
    "    plt.show()"
   ]
  },
  {
   "cell_type": "code",
   "execution_count": 32,
   "id": "9bb4f83c-31f8-423f-8ca5-a6a4c189e9c5",
   "metadata": {
    "tags": []
   },
   "outputs": [],
   "source": [
    "# handel na value in Number_of_Windows\n",
    "\n",
    "x_train['Number_of_Windows'] = x_train['Number_of_Windows'].fillna(round(x_train['Number_of_Windows'].mean(),0))\n",
    "x_test['Number_of_Windows'] = x_test['Number_of_Windows'].fillna(round(x_train['Number_of_Windows'].mean(),0))"
   ]
  },
  {
   "cell_type": "code",
   "execution_count": 33,
   "id": "6d1a9c0d-6ef0-45f3-9b47-838f4ec8c184",
   "metadata": {
    "tags": []
   },
   "outputs": [],
   "source": [
    "# handel na values in 2 col Furnishing\n",
    "\n",
    "x_train['Furnishing'] = x_train['Furnishing'].fillna(x_train['Furnishing'].mode()[0])\n",
    "x_test['Furnishing'] = x_test['Furnishing'].fillna(x_train['Furnishing'].mode()[0])"
   ]
  },
  {
   "cell_type": "code",
   "execution_count": null,
   "id": "b60afcf2-a202-4e97-aedb-db0a81859af1",
   "metadata": {},
   "outputs": [],
   "source": []
  },
  {
   "cell_type": "code",
   "execution_count": 34,
   "id": "9b2a4f41-81cc-4bbd-8e83-56043f33cc3c",
   "metadata": {},
   "outputs": [],
   "source": [
    "#  Frequency_of_Powercuts is co related with Neighborhood_Review so we take the avg power cut bassed on Neighborhood_Review and filled\n",
    "# with null values\n",
    "\n",
    "# exp - evg Frequency_of_Powercuts when  Neighborhood_Review 1 to 2 then with avg value with nan value   "
   ]
  },
  {
   "cell_type": "code",
   "execution_count": 35,
   "id": "b0fcfc91-a48c-47aa-b3d8-f6b303feb160",
   "metadata": {
    "tags": []
   },
   "outputs": [
    {
     "data": {
      "text/html": [
       "<div>\n",
       "<style scoped>\n",
       "    .dataframe tbody tr th:only-of-type {\n",
       "        vertical-align: middle;\n",
       "    }\n",
       "\n",
       "    .dataframe tbody tr th {\n",
       "        vertical-align: top;\n",
       "    }\n",
       "\n",
       "    .dataframe thead th {\n",
       "        text-align: right;\n",
       "    }\n",
       "</style>\n",
       "<table border=\"1\" class=\"dataframe\">\n",
       "  <thead>\n",
       "    <tr style=\"text-align: right;\">\n",
       "      <th></th>\n",
       "      <th>Frequency_of_Powercuts</th>\n",
       "      <th>Neighborhood_Review</th>\n",
       "    </tr>\n",
       "  </thead>\n",
       "  <tbody>\n",
       "    <tr>\n",
       "      <th>17352</th>\n",
       "      <td>3.0</td>\n",
       "      <td>2.24</td>\n",
       "    </tr>\n",
       "    <tr>\n",
       "      <th>13629</th>\n",
       "      <td>3.0</td>\n",
       "      <td>2.93</td>\n",
       "    </tr>\n",
       "    <tr>\n",
       "      <th>14095</th>\n",
       "      <td>3.0</td>\n",
       "      <td>2.83</td>\n",
       "    </tr>\n",
       "    <tr>\n",
       "      <th>8154</th>\n",
       "      <td>3.0</td>\n",
       "      <td>2.90</td>\n",
       "    </tr>\n",
       "    <tr>\n",
       "      <th>11954</th>\n",
       "      <td>3.0</td>\n",
       "      <td>2.26</td>\n",
       "    </tr>\n",
       "    <tr>\n",
       "      <th>...</th>\n",
       "      <td>...</td>\n",
       "      <td>...</td>\n",
       "    </tr>\n",
       "    <tr>\n",
       "      <th>13986</th>\n",
       "      <td>NaN</td>\n",
       "      <td>2.27</td>\n",
       "    </tr>\n",
       "    <tr>\n",
       "      <th>7629</th>\n",
       "      <td>NaN</td>\n",
       "      <td>4.87</td>\n",
       "    </tr>\n",
       "    <tr>\n",
       "      <th>18431</th>\n",
       "      <td>NaN</td>\n",
       "      <td>4.17</td>\n",
       "    </tr>\n",
       "    <tr>\n",
       "      <th>8666</th>\n",
       "      <td>NaN</td>\n",
       "      <td>2.84</td>\n",
       "    </tr>\n",
       "    <tr>\n",
       "      <th>14423</th>\n",
       "      <td>NaN</td>\n",
       "      <td>4.17</td>\n",
       "    </tr>\n",
       "  </tbody>\n",
       "</table>\n",
       "<p>25279 rows × 2 columns</p>\n",
       "</div>"
      ],
      "text/plain": [
       "       Frequency_of_Powercuts  Neighborhood_Review\n",
       "17352                     3.0                 2.24\n",
       "13629                     3.0                 2.93\n",
       "14095                     3.0                 2.83\n",
       "8154                      3.0                 2.90\n",
       "11954                     3.0                 2.26\n",
       "...                       ...                  ...\n",
       "13986                     NaN                 2.27\n",
       "7629                      NaN                 4.87\n",
       "18431                     NaN                 4.17\n",
       "8666                      NaN                 2.84\n",
       "14423                     NaN                 4.17\n",
       "\n",
       "[25279 rows x 2 columns]"
      ]
     },
     "execution_count": 35,
     "metadata": {},
     "output_type": "execute_result"
    }
   ],
   "source": [
    "# handel na values in 3 column Frequency_of_Powercuts\n",
    "\n",
    "x_train[['Frequency_of_Powercuts','Neighborhood_Review']].sort_values(by = 'Frequency_of_Powercuts' , ascending = False)"
   ]
  },
  {
   "cell_type": "code",
   "execution_count": 36,
   "id": "9a380383-747b-4dbf-a957-b91a8ee6e0a0",
   "metadata": {
    "tags": []
   },
   "outputs": [],
   "source": [
    "a = x_train[['Frequency_of_Powercuts','Neighborhood_Review']]\n",
    "b = a.copy()\n",
    "\n",
    "c = x_test[['Frequency_of_Powercuts','Neighborhood_Review']]\n",
    "d = c.copy()"
   ]
  },
  {
   "cell_type": "code",
   "execution_count": 1,
   "id": "efeb25c2-9ffc-4f0f-a1bd-3929fd27683d",
   "metadata": {
    "tags": []
   },
   "outputs": [],
   "source": [
    "for i in range(5):\n",
    "    if i == 0:\n",
    "        mean = round(a[(a['Neighborhood_Review'] >= i) & (a['Neighborhood_Review'] <= i+1)].mean()[0],0)\n",
    "        a[(a['Neighborhood_Review'] >= i) & (a['Neighborhood_Review'] <= i+1)] = a[(a['Neighborhood_Review'] >= i) & (a['Neighborhood_Review'] <= i+1)].fillna(mean)\n",
    "        c[(c['Neighborhood_Review'] >= i) & (c['Neighborhood_Review'] <= i+1)] = c[(c['Neighborhood_Review'] >= i) & (c['Neighborhood_Review'] <= i+1)].fillna(mean)\n",
    "    else:\n",
    "        \n",
    "        mean = round(a[(a['Neighborhood_Review'] > i) & (a['Neighborhood_Review'] <= i+1)].mean()[0],0)\n",
    "        a[(a['Neighborhood_Review'] > i) & (a['Neighborhood_Review'] <= i+1)] = a[(a['Neighborhood_Review'] > i) & (a['Neighborhood_Review'] <= i+1)].fillna(mean)\n",
    "        c[(c['Neighborhood_Review'] > i) & (c['Neighborhood_Review'] <= i+1)] = c[(c['Neighborhood_Review'] > i) & (c['Neighborhood_Review'] <= i+1)].fillna(mean)\n",
    "        \n",
    "        \n",
    "        "
   ]
  },
  {
   "cell_type": "code",
   "execution_count": null,
   "id": "e1088a65-2e57-46bf-a235-736f94c9a45b",
   "metadata": {
    "tags": []
   },
   "outputs": [],
   "source": []
  },
  {
   "cell_type": "code",
   "execution_count": 38,
   "id": "fc13402a-0cbe-43e8-b0d8-38bfcfdcda28",
   "metadata": {
    "tags": []
   },
   "outputs": [],
   "source": [
    "x_train[['Frequency_of_Powercuts','Neighborhood_Review']] = a\n",
    "x_test[['Frequency_of_Powercuts','Neighborhood_Review']] = c"
   ]
  },
  {
   "cell_type": "code",
   "execution_count": 39,
   "id": "8ab76c09-f4d8-4b9c-aa67-e76fdd1c924d",
   "metadata": {
    "tags": []
   },
   "outputs": [
    {
     "data": {
      "text/plain": [
       "Number_of_Windows           0\n",
       "Furnishing                  0\n",
       "Frequency_of_Powercuts      0\n",
       "Crime_Rate                486\n",
       "Dust_and_Noise            790\n",
       "dtype: int64"
      ]
     },
     "execution_count": 39,
     "metadata": {},
     "output_type": "execute_result"
    }
   ],
   "source": [
    "x_train[na_col].isnull().sum()"
   ]
  },
  {
   "cell_type": "code",
   "execution_count": 40,
   "id": "c177197a-e28a-44ce-9055-589bfcdd9705",
   "metadata": {
    "tags": []
   },
   "outputs": [
    {
     "data": {
      "text/plain": [
       "Number_of_Windows           0\n",
       "Furnishing                  0\n",
       "Frequency_of_Powercuts      0\n",
       "Crime_Rate                143\n",
       "Dust_and_Noise            209\n",
       "dtype: int64"
      ]
     },
     "execution_count": 40,
     "metadata": {},
     "output_type": "execute_result"
    }
   ],
   "source": [
    "x_test[na_col].isnull().sum()"
   ]
  },
  {
   "cell_type": "code",
   "execution_count": null,
   "id": "41bbae0e-3c40-4217-829d-4dd14ca7c2cb",
   "metadata": {},
   "outputs": [],
   "source": []
  },
  {
   "cell_type": "code",
   "execution_count": 41,
   "id": "ea7be0db-8b30-43b2-97f0-d0db375d9253",
   "metadata": {
    "tags": []
   },
   "outputs": [],
   "source": [
    "# handel the 4 th column of missng values\n",
    "x_train['Crime_Rate'] = x_train['Crime_Rate'].fillna(x_train['Crime_Rate'].mode()[0])\n",
    "x_test['Crime_Rate'] = x_test['Crime_Rate'].fillna(x_train['Crime_Rate'].mode()[0])"
   ]
  },
  {
   "cell_type": "code",
   "execution_count": null,
   "id": "4fce8262-e0bd-4140-80d6-bd225c0fd0c5",
   "metadata": {},
   "outputs": [],
   "source": []
  },
  {
   "cell_type": "code",
   "execution_count": 42,
   "id": "23e166a5-fc34-4e26-980a-a0be5d7b0954",
   "metadata": {
    "tags": []
   },
   "outputs": [],
   "source": [
    "# handel the 5 the columns of missing values \n",
    "x_train['Dust_and_Noise'] = x_train['Dust_and_Noise'].fillna(x_train['Dust_and_Noise'].mode()[0])\n",
    "x_test['Dust_and_Noise'] = x_test['Dust_and_Noise'].fillna(x_train['Dust_and_Noise'].mode()[0])"
   ]
  },
  {
   "cell_type": "code",
   "execution_count": null,
   "id": "9f75e261-e2c9-41f0-9167-fd16ab06b58e",
   "metadata": {
    "tags": []
   },
   "outputs": [],
   "source": []
  },
  {
   "cell_type": "code",
   "execution_count": 43,
   "id": "bccb599b-afa4-49f8-b7c4-152abbd02391",
   "metadata": {
    "tags": []
   },
   "outputs": [
    {
     "data": {
      "text/plain": [
       "Property_Type             0\n",
       "Property_Area             0\n",
       "Number_of_Windows         0\n",
       "Number_of_Doors           0\n",
       "Furnishing                0\n",
       "Frequency_of_Powercuts    0\n",
       "Power_Backup              0\n",
       "Water_Supply              0\n",
       "Traffic_Density_Score     0\n",
       "Crime_Rate                0\n",
       "Dust_and_Noise            0\n",
       "Air_Quality_Index         0\n",
       "Neighborhood_Review       0\n",
       "dtype: int64"
      ]
     },
     "execution_count": 43,
     "metadata": {},
     "output_type": "execute_result"
    }
   ],
   "source": [
    "# checking is there any null vlaues left \n",
    "x_train.isnull().sum()"
   ]
  },
  {
   "cell_type": "code",
   "execution_count": 44,
   "id": "1520a29e-fdd3-4dd4-8f9c-e4e6cfb763ad",
   "metadata": {
    "tags": []
   },
   "outputs": [
    {
     "data": {
      "text/plain": [
       "Property_Type             0\n",
       "Property_Area             0\n",
       "Number_of_Windows         0\n",
       "Number_of_Doors           0\n",
       "Furnishing                0\n",
       "Frequency_of_Powercuts    0\n",
       "Power_Backup              0\n",
       "Water_Supply              0\n",
       "Traffic_Density_Score     0\n",
       "Crime_Rate                0\n",
       "Dust_and_Noise            0\n",
       "Air_Quality_Index         0\n",
       "Neighborhood_Review       0\n",
       "dtype: int64"
      ]
     },
     "execution_count": 44,
     "metadata": {},
     "output_type": "execute_result"
    }
   ],
   "source": [
    "x_test.isnull().sum()"
   ]
  },
  {
   "cell_type": "code",
   "execution_count": null,
   "id": "2a2231f9-3e58-4c94-b53d-0fba115d0f99",
   "metadata": {
    "tags": []
   },
   "outputs": [],
   "source": []
  },
  {
   "cell_type": "code",
   "execution_count": 45,
   "id": "528c532c-b649-49ac-94d1-1a590a9d813f",
   "metadata": {
    "tags": []
   },
   "outputs": [],
   "source": [
    "num_col.append('Habitability_score')"
   ]
  },
  {
   "cell_type": "code",
   "execution_count": 46,
   "id": "65ef1649-f168-4b25-8d66-e8b8157bf531",
   "metadata": {
    "tags": []
   },
   "outputs": [],
   "source": [
    "# scaling the num col\n",
    "std  = StandardScaler()\n",
    "x_train_std = pd.DataFrame(std.fit_transform(x_train[num_col[0:-1]]), columns = num_col[0:-1], index = x_train.index)\n",
    "x_test_std = pd.DataFrame(std.transform(x_test[num_col[0:-1]]), columns = num_col[0:-1], index = x_test.index)"
   ]
  },
  {
   "cell_type": "code",
   "execution_count": null,
   "id": "20558e4d-0ff0-491e-8234-b0e12e33f65c",
   "metadata": {
    "tags": []
   },
   "outputs": [],
   "source": []
  },
  {
   "cell_type": "code",
   "execution_count": 47,
   "id": "72cb4eb7-a63b-43fb-b739-ea9368a21254",
   "metadata": {
    "tags": []
   },
   "outputs": [],
   "source": [
    "# encoding \n",
    "ohe_col = ['Property_Type','Power_Backup','Water_Supply']\n",
    "ord_col = ['Furnishing','Crime_Rate','Dust_and_Noise']"
   ]
  },
  {
   "cell_type": "code",
   "execution_count": 48,
   "id": "f1d58346-b164-4318-bce6-7f94796d4d2b",
   "metadata": {
    "tags": []
   },
   "outputs": [],
   "source": [
    "ord = OrdinalEncoder(categories = [['Unfurnished','Semi_Furnished','Fully Furnished'],\n",
    "                                   ['Well below average','Slightly below average','Slightly above average','Well above average'],\n",
    "                                  ['Low','Medium','High']], handle_unknown = 'use_encoded_value', unknown_value = -1)\n",
    "\n",
    "x_train_ord = pd.DataFrame(ord.fit_transform(x_train[ord_col]), index = x_train.index, columns = ord_col)\n",
    "x_test_ord = pd.DataFrame(ord.transform(x_test[ord_col]), index = x_test.index, columns = ord_col)"
   ]
  },
  {
   "cell_type": "code",
   "execution_count": 49,
   "id": "7930be41-064a-4585-b3c2-a70142d11b90",
   "metadata": {
    "tags": []
   },
   "outputs": [],
   "source": [
    "ohe = OneHotEncoder(sparse_output = False,  handle_unknown ='ignore')\n",
    "x_train_ohe = pd.DataFrame(ohe.fit_transform(x_train[ohe_col]), index = x_train.index, columns = ohe.get_feature_names_out())\n",
    "x_test_ohe = pd.DataFrame(ohe.transform(x_test[ohe_col]), index = x_test.index, columns = ohe.get_feature_names_out())"
   ]
  },
  {
   "cell_type": "code",
   "execution_count": null,
   "id": "e067111b-94ca-4107-90cc-567922fbc632",
   "metadata": {
    "tags": []
   },
   "outputs": [],
   "source": []
  },
  {
   "cell_type": "code",
   "execution_count": 50,
   "id": "4a9c35a4-a057-4246-9763-a28f5b0c181e",
   "metadata": {
    "tags": []
   },
   "outputs": [],
   "source": [
    "# concat \n",
    "x_train_2 = pd.concat([x_train_ord, x_train_ohe, x_train_std], axis = 1)\n",
    "x_test_2 = pd.concat([x_test_ord, x_test_ohe, x_test_std], axis = 1)"
   ]
  },
  {
   "cell_type": "code",
   "execution_count": null,
   "id": "5cec9819-4623-442a-89f4-658d4f31a3d3",
   "metadata": {
    "tags": []
   },
   "outputs": [],
   "source": []
  },
  {
   "cell_type": "code",
   "execution_count": 51,
   "id": "efcd6b93-2088-472b-99f9-858e669b4427",
   "metadata": {
    "tags": []
   },
   "outputs": [
    {
     "data": {
      "text/html": [
       "<div>\n",
       "<style scoped>\n",
       "    .dataframe tbody tr th:only-of-type {\n",
       "        vertical-align: middle;\n",
       "    }\n",
       "\n",
       "    .dataframe tbody tr th {\n",
       "        vertical-align: top;\n",
       "    }\n",
       "\n",
       "    .dataframe thead th {\n",
       "        text-align: right;\n",
       "    }\n",
       "</style>\n",
       "<table border=\"1\" class=\"dataframe\">\n",
       "  <thead>\n",
       "    <tr style=\"text-align: right;\">\n",
       "      <th></th>\n",
       "      <th>method</th>\n",
       "      <th>train_r2</th>\n",
       "      <th>test_r2</th>\n",
       "      <th>train_adj_r2</th>\n",
       "      <th>test_adj_r2</th>\n",
       "      <th>train_mae</th>\n",
       "      <th>test_mae</th>\n",
       "    </tr>\n",
       "  </thead>\n",
       "  <tbody>\n",
       "    <tr>\n",
       "      <th>0</th>\n",
       "      <td>baseline</td>\n",
       "      <td>0.584668</td>\n",
       "      <td>0.575450</td>\n",
       "      <td>0.584206</td>\n",
       "      <td>0.573553</td>\n",
       "      <td>7.326350</td>\n",
       "      <td>7.449752</td>\n",
       "    </tr>\n",
       "    <tr>\n",
       "      <th>0</th>\n",
       "      <td>missing_value_impute and scaling</td>\n",
       "      <td>0.581353</td>\n",
       "      <td>0.567569</td>\n",
       "      <td>0.580955</td>\n",
       "      <td>0.565920</td>\n",
       "      <td>7.446236</td>\n",
       "      <td>7.299797</td>\n",
       "    </tr>\n",
       "  </tbody>\n",
       "</table>\n",
       "</div>"
      ],
      "text/plain": [
       "                             method  train_r2   test_r2  train_adj_r2  \\\n",
       "0                          baseline  0.584668  0.575450      0.584206   \n",
       "0  missing_value_impute and scaling  0.581353  0.567569      0.580955   \n",
       "\n",
       "   test_adj_r2  train_mae  test_mae  \n",
       "0     0.573553   7.326350  7.449752  \n",
       "0     0.565920   7.446236  7.299797  "
      ]
     },
     "execution_count": 51,
     "metadata": {},
     "output_type": "execute_result"
    }
   ],
   "source": [
    "# model evalution\n",
    "Evalution('missing_value_impute and scaling',x_train_2, x_test_2, y_train, y_test)\n"
   ]
  },
  {
   "cell_type": "markdown",
   "id": "f50d5f1d-b715-487e-9630-873cc11d6a96",
   "metadata": {},
   "source": [
    "### Previous method + log of y\n",
    "\n"
   ]
  },
  {
   "cell_type": "code",
   "execution_count": 52,
   "id": "7d478c24-aa05-40fc-baff-71d24b3ed5fd",
   "metadata": {
    "tags": []
   },
   "outputs": [
    {
     "data": {
      "text/html": [
       "<div>\n",
       "<style scoped>\n",
       "    .dataframe tbody tr th:only-of-type {\n",
       "        vertical-align: middle;\n",
       "    }\n",
       "\n",
       "    .dataframe tbody tr th {\n",
       "        vertical-align: top;\n",
       "    }\n",
       "\n",
       "    .dataframe thead th {\n",
       "        text-align: right;\n",
       "    }\n",
       "</style>\n",
       "<table border=\"1\" class=\"dataframe\">\n",
       "  <thead>\n",
       "    <tr style=\"text-align: right;\">\n",
       "      <th></th>\n",
       "      <th>method</th>\n",
       "      <th>train_r2</th>\n",
       "      <th>test_r2</th>\n",
       "      <th>train_adj_r2</th>\n",
       "      <th>test_adj_r2</th>\n",
       "      <th>train_mae</th>\n",
       "      <th>test_mae</th>\n",
       "    </tr>\n",
       "  </thead>\n",
       "  <tbody>\n",
       "    <tr>\n",
       "      <th>0</th>\n",
       "      <td>baseline</td>\n",
       "      <td>0.584668</td>\n",
       "      <td>0.575450</td>\n",
       "      <td>0.584206</td>\n",
       "      <td>0.573553</td>\n",
       "      <td>7.326350</td>\n",
       "      <td>7.449752</td>\n",
       "    </tr>\n",
       "    <tr>\n",
       "      <th>0</th>\n",
       "      <td>missing_value_impute and scaling</td>\n",
       "      <td>0.581353</td>\n",
       "      <td>0.567569</td>\n",
       "      <td>0.580955</td>\n",
       "      <td>0.565920</td>\n",
       "      <td>7.446236</td>\n",
       "      <td>7.299797</td>\n",
       "    </tr>\n",
       "    <tr>\n",
       "      <th>0</th>\n",
       "      <td>missing_value_impute and scaling and log of y</td>\n",
       "      <td>0.544321</td>\n",
       "      <td>0.528285</td>\n",
       "      <td>0.543888</td>\n",
       "      <td>0.526486</td>\n",
       "      <td>0.131534</td>\n",
       "      <td>0.128183</td>\n",
       "    </tr>\n",
       "  </tbody>\n",
       "</table>\n",
       "</div>"
      ],
      "text/plain": [
       "                                          method  train_r2   test_r2  \\\n",
       "0                                       baseline  0.584668  0.575450   \n",
       "0               missing_value_impute and scaling  0.581353  0.567569   \n",
       "0  missing_value_impute and scaling and log of y  0.544321  0.528285   \n",
       "\n",
       "   train_adj_r2  test_adj_r2  train_mae  test_mae  \n",
       "0      0.584206     0.573553   7.326350  7.449752  \n",
       "0      0.580955     0.565920   7.446236  7.299797  \n",
       "0      0.543888     0.526486   0.131534  0.128183  "
      ]
     },
     "execution_count": 52,
     "metadata": {},
     "output_type": "execute_result"
    }
   ],
   "source": [
    "# model evalution\n",
    "Evalution('missing_value_impute and scaling and log of y',x_train_2, x_test_2, np.log(y_train), np.log(y_test))\n"
   ]
  },
  {
   "cell_type": "markdown",
   "id": "c3546940-a8e7-444f-a6ba-fb1195226d60",
   "metadata": {},
   "source": [
    "## Polynomial features"
   ]
  },
  {
   "cell_type": "code",
   "execution_count": 53,
   "id": "30efa281-ca9b-4891-b535-60d88c559bb3",
   "metadata": {
    "tags": []
   },
   "outputs": [],
   "source": [
    "from sklearn.preprocessing import PolynomialFeatures"
   ]
  },
  {
   "cell_type": "code",
   "execution_count": 54,
   "id": "b5309028-8feb-4ed4-b3e1-8bf6efd631ff",
   "metadata": {
    "tags": []
   },
   "outputs": [],
   "source": [
    "poly = PolynomialFeatures((2,3))"
   ]
  },
  {
   "cell_type": "code",
   "execution_count": 55,
   "id": "ae67d4a4-51ad-4976-9aa2-71252ac1247a",
   "metadata": {
    "tags": []
   },
   "outputs": [],
   "source": [
    "x_train_poly = pd.DataFrame(poly.fit_transform(x_train[num_col[0:-1]]), index = x_train.index)\n",
    "x_test_poly = pd.DataFrame(poly.transform(x_test[num_col[0:-1]]), index = x_test.index)"
   ]
  },
  {
   "cell_type": "code",
   "execution_count": 56,
   "id": "cfc03608-34c4-480b-a432-b6ea88d0b457",
   "metadata": {
    "tags": []
   },
   "outputs": [
    {
     "data": {
      "text/html": [
       "<div>\n",
       "<style scoped>\n",
       "    .dataframe tbody tr th:only-of-type {\n",
       "        vertical-align: middle;\n",
       "    }\n",
       "\n",
       "    .dataframe tbody tr th {\n",
       "        vertical-align: top;\n",
       "    }\n",
       "\n",
       "    .dataframe thead th {\n",
       "        text-align: right;\n",
       "    }\n",
       "</style>\n",
       "<table border=\"1\" class=\"dataframe\">\n",
       "  <thead>\n",
       "    <tr style=\"text-align: right;\">\n",
       "      <th></th>\n",
       "      <th>0</th>\n",
       "      <th>1</th>\n",
       "      <th>2</th>\n",
       "      <th>3</th>\n",
       "      <th>4</th>\n",
       "      <th>5</th>\n",
       "      <th>6</th>\n",
       "      <th>7</th>\n",
       "      <th>8</th>\n",
       "      <th>9</th>\n",
       "      <th>...</th>\n",
       "      <th>103</th>\n",
       "      <th>104</th>\n",
       "      <th>105</th>\n",
       "      <th>106</th>\n",
       "      <th>107</th>\n",
       "      <th>108</th>\n",
       "      <th>109</th>\n",
       "      <th>110</th>\n",
       "      <th>111</th>\n",
       "      <th>112</th>\n",
       "    </tr>\n",
       "  </thead>\n",
       "  <tbody>\n",
       "    <tr>\n",
       "      <th>17935</th>\n",
       "      <td>1.0</td>\n",
       "      <td>76729.0</td>\n",
       "      <td>277.0</td>\n",
       "      <td>831.0</td>\n",
       "      <td>554.0</td>\n",
       "      <td>1983.32</td>\n",
       "      <td>34625.0</td>\n",
       "      <td>969.50</td>\n",
       "      <td>1.0</td>\n",
       "      <td>3.0</td>\n",
       "      <td>...</td>\n",
       "      <td>367.061696</td>\n",
       "      <td>6408.2000</td>\n",
       "      <td>179.429600</td>\n",
       "      <td>111875.00</td>\n",
       "      <td>3132.5000</td>\n",
       "      <td>87.710000</td>\n",
       "      <td>1953125.0</td>\n",
       "      <td>54687.50</td>\n",
       "      <td>1531.2500</td>\n",
       "      <td>42.875000</td>\n",
       "    </tr>\n",
       "    <tr>\n",
       "      <th>17344</th>\n",
       "      <td>1.0</td>\n",
       "      <td>64009.0</td>\n",
       "      <td>506.0</td>\n",
       "      <td>506.0</td>\n",
       "      <td>759.0</td>\n",
       "      <td>1811.48</td>\n",
       "      <td>22264.0</td>\n",
       "      <td>738.76</td>\n",
       "      <td>4.0</td>\n",
       "      <td>4.0</td>\n",
       "      <td>...</td>\n",
       "      <td>367.061696</td>\n",
       "      <td>4511.3728</td>\n",
       "      <td>149.695552</td>\n",
       "      <td>55447.04</td>\n",
       "      <td>1839.8336</td>\n",
       "      <td>61.049024</td>\n",
       "      <td>681472.0</td>\n",
       "      <td>22612.48</td>\n",
       "      <td>750.3232</td>\n",
       "      <td>24.897088</td>\n",
       "    </tr>\n",
       "    <tr>\n",
       "      <th>12296</th>\n",
       "      <td>1.0</td>\n",
       "      <td>202500.0</td>\n",
       "      <td>450.0</td>\n",
       "      <td>450.0</td>\n",
       "      <td>0.0</td>\n",
       "      <td>3789.00</td>\n",
       "      <td>76050.0</td>\n",
       "      <td>1093.50</td>\n",
       "      <td>1.0</td>\n",
       "      <td>1.0</td>\n",
       "      <td>...</td>\n",
       "      <td>596.947688</td>\n",
       "      <td>11981.4916</td>\n",
       "      <td>172.278252</td>\n",
       "      <td>240483.62</td>\n",
       "      <td>3457.8414</td>\n",
       "      <td>49.719258</td>\n",
       "      <td>4826809.0</td>\n",
       "      <td>69403.23</td>\n",
       "      <td>997.9281</td>\n",
       "      <td>14.348907</td>\n",
       "    </tr>\n",
       "    <tr>\n",
       "      <th>12491</th>\n",
       "      <td>1.0</td>\n",
       "      <td>767376.0</td>\n",
       "      <td>5256.0</td>\n",
       "      <td>876.0</td>\n",
       "      <td>0.0</td>\n",
       "      <td>6710.16</td>\n",
       "      <td>132276.0</td>\n",
       "      <td>4134.72</td>\n",
       "      <td>36.0</td>\n",
       "      <td>6.0</td>\n",
       "      <td>...</td>\n",
       "      <td>449.455096</td>\n",
       "      <td>8860.0156</td>\n",
       "      <td>276.948832</td>\n",
       "      <td>174655.66</td>\n",
       "      <td>5459.4352</td>\n",
       "      <td>170.652544</td>\n",
       "      <td>3442951.0</td>\n",
       "      <td>107620.72</td>\n",
       "      <td>3364.0384</td>\n",
       "      <td>105.154048</td>\n",
       "    </tr>\n",
       "    <tr>\n",
       "      <th>6112</th>\n",
       "      <td>1.0</td>\n",
       "      <td>55225.0</td>\n",
       "      <td>235.0</td>\n",
       "      <td>705.0</td>\n",
       "      <td>0.0</td>\n",
       "      <td>1687.30</td>\n",
       "      <td>39715.0</td>\n",
       "      <td>881.25</td>\n",
       "      <td>1.0</td>\n",
       "      <td>3.0</td>\n",
       "      <td>...</td>\n",
       "      <td>370.146232</td>\n",
       "      <td>8712.3556</td>\n",
       "      <td>193.321500</td>\n",
       "      <td>205067.98</td>\n",
       "      <td>4550.3250</td>\n",
       "      <td>100.968750</td>\n",
       "      <td>4826809.0</td>\n",
       "      <td>107103.75</td>\n",
       "      <td>2376.5625</td>\n",
       "      <td>52.734375</td>\n",
       "    </tr>\n",
       "    <tr>\n",
       "      <th>...</th>\n",
       "      <td>...</td>\n",
       "      <td>...</td>\n",
       "      <td>...</td>\n",
       "      <td>...</td>\n",
       "      <td>...</td>\n",
       "      <td>...</td>\n",
       "      <td>...</td>\n",
       "      <td>...</td>\n",
       "      <td>...</td>\n",
       "      <td>...</td>\n",
       "      <td>...</td>\n",
       "      <td>...</td>\n",
       "      <td>...</td>\n",
       "      <td>...</td>\n",
       "      <td>...</td>\n",
       "      <td>...</td>\n",
       "      <td>...</td>\n",
       "      <td>...</td>\n",
       "      <td>...</td>\n",
       "      <td>...</td>\n",
       "      <td>...</td>\n",
       "    </tr>\n",
       "    <tr>\n",
       "      <th>9674</th>\n",
       "      <td>1.0</td>\n",
       "      <td>1016064.0</td>\n",
       "      <td>7056.0</td>\n",
       "      <td>3024.0</td>\n",
       "      <td>0.0</td>\n",
       "      <td>6390.72</td>\n",
       "      <td>88704.0</td>\n",
       "      <td>3255.84</td>\n",
       "      <td>49.0</td>\n",
       "      <td>21.0</td>\n",
       "      <td>...</td>\n",
       "      <td>254.840104</td>\n",
       "      <td>3537.2128</td>\n",
       "      <td>129.831788</td>\n",
       "      <td>49096.96</td>\n",
       "      <td>1802.0816</td>\n",
       "      <td>66.144586</td>\n",
       "      <td>681472.0</td>\n",
       "      <td>25013.12</td>\n",
       "      <td>918.0952</td>\n",
       "      <td>33.698267</td>\n",
       "    </tr>\n",
       "    <tr>\n",
       "      <th>28394</th>\n",
       "      <td>1.0</td>\n",
       "      <td>1375929.0</td>\n",
       "      <td>5865.0</td>\n",
       "      <td>4692.0</td>\n",
       "      <td>1173.0</td>\n",
       "      <td>7284.33</td>\n",
       "      <td>140760.0</td>\n",
       "      <td>4856.22</td>\n",
       "      <td>25.0</td>\n",
       "      <td>20.0</td>\n",
       "      <td>...</td>\n",
       "      <td>239.483061</td>\n",
       "      <td>4627.6920</td>\n",
       "      <td>159.655374</td>\n",
       "      <td>89424.00</td>\n",
       "      <td>3085.1280</td>\n",
       "      <td>106.436916</td>\n",
       "      <td>1728000.0</td>\n",
       "      <td>59616.00</td>\n",
       "      <td>2056.7520</td>\n",
       "      <td>70.957944</td>\n",
       "    </tr>\n",
       "    <tr>\n",
       "      <th>1864</th>\n",
       "      <td>1.0</td>\n",
       "      <td>254016.0</td>\n",
       "      <td>2016.0</td>\n",
       "      <td>1512.0</td>\n",
       "      <td>0.0</td>\n",
       "      <td>2711.52</td>\n",
       "      <td>58968.0</td>\n",
       "      <td>1774.08</td>\n",
       "      <td>16.0</td>\n",
       "      <td>12.0</td>\n",
       "      <td>...</td>\n",
       "      <td>155.720872</td>\n",
       "      <td>3386.4948</td>\n",
       "      <td>101.884288</td>\n",
       "      <td>73646.82</td>\n",
       "      <td>2215.6992</td>\n",
       "      <td>66.660352</td>\n",
       "      <td>1601613.0</td>\n",
       "      <td>48185.28</td>\n",
       "      <td>1449.6768</td>\n",
       "      <td>43.614208</td>\n",
       "    </tr>\n",
       "    <tr>\n",
       "      <th>11603</th>\n",
       "      <td>1.0</td>\n",
       "      <td>2965284.0</td>\n",
       "      <td>5166.0</td>\n",
       "      <td>3444.0</td>\n",
       "      <td>0.0</td>\n",
       "      <td>9918.72</td>\n",
       "      <td>173922.0</td>\n",
       "      <td>8248.38</td>\n",
       "      <td>9.0</td>\n",
       "      <td>6.0</td>\n",
       "      <td>...</td>\n",
       "      <td>191.102976</td>\n",
       "      <td>3350.9376</td>\n",
       "      <td>158.920704</td>\n",
       "      <td>58757.76</td>\n",
       "      <td>2786.6304</td>\n",
       "      <td>132.158016</td>\n",
       "      <td>1030301.0</td>\n",
       "      <td>48862.79</td>\n",
       "      <td>2317.3541</td>\n",
       "      <td>109.902239</td>\n",
       "    </tr>\n",
       "    <tr>\n",
       "      <th>15356</th>\n",
       "      <td>1.0</td>\n",
       "      <td>11035684.0</td>\n",
       "      <td>23254.0</td>\n",
       "      <td>16610.0</td>\n",
       "      <td>0.0</td>\n",
       "      <td>19201.16</td>\n",
       "      <td>355454.0</td>\n",
       "      <td>15879.16</td>\n",
       "      <td>49.0</td>\n",
       "      <td>35.0</td>\n",
       "      <td>...</td>\n",
       "      <td>193.100552</td>\n",
       "      <td>3574.6988</td>\n",
       "      <td>159.692152</td>\n",
       "      <td>66175.22</td>\n",
       "      <td>2956.2388</td>\n",
       "      <td>132.063752</td>\n",
       "      <td>1225043.0</td>\n",
       "      <td>54726.22</td>\n",
       "      <td>2444.7788</td>\n",
       "      <td>109.215352</td>\n",
       "    </tr>\n",
       "  </tbody>\n",
       "</table>\n",
       "<p>6320 rows × 113 columns</p>\n",
       "</div>"
      ],
      "text/plain": [
       "       0           1        2        3       4         5         6    \\\n",
       "17935  1.0     76729.0    277.0    831.0   554.0   1983.32   34625.0   \n",
       "17344  1.0     64009.0    506.0    506.0   759.0   1811.48   22264.0   \n",
       "12296  1.0    202500.0    450.0    450.0     0.0   3789.00   76050.0   \n",
       "12491  1.0    767376.0   5256.0    876.0     0.0   6710.16  132276.0   \n",
       "6112   1.0     55225.0    235.0    705.0     0.0   1687.30   39715.0   \n",
       "...    ...         ...      ...      ...     ...       ...       ...   \n",
       "9674   1.0   1016064.0   7056.0   3024.0     0.0   6390.72   88704.0   \n",
       "28394  1.0   1375929.0   5865.0   4692.0  1173.0   7284.33  140760.0   \n",
       "1864   1.0    254016.0   2016.0   1512.0     0.0   2711.52   58968.0   \n",
       "11603  1.0   2965284.0   5166.0   3444.0     0.0   9918.72  173922.0   \n",
       "15356  1.0  11035684.0  23254.0  16610.0     0.0  19201.16  355454.0   \n",
       "\n",
       "            7     8     9    ...         103         104         105  \\\n",
       "17935    969.50   1.0   3.0  ...  367.061696   6408.2000  179.429600   \n",
       "17344    738.76   4.0   4.0  ...  367.061696   4511.3728  149.695552   \n",
       "12296   1093.50   1.0   1.0  ...  596.947688  11981.4916  172.278252   \n",
       "12491   4134.72  36.0   6.0  ...  449.455096   8860.0156  276.948832   \n",
       "6112     881.25   1.0   3.0  ...  370.146232   8712.3556  193.321500   \n",
       "...         ...   ...   ...  ...         ...         ...         ...   \n",
       "9674    3255.84  49.0  21.0  ...  254.840104   3537.2128  129.831788   \n",
       "28394   4856.22  25.0  20.0  ...  239.483061   4627.6920  159.655374   \n",
       "1864    1774.08  16.0  12.0  ...  155.720872   3386.4948  101.884288   \n",
       "11603   8248.38   9.0   6.0  ...  191.102976   3350.9376  158.920704   \n",
       "15356  15879.16  49.0  35.0  ...  193.100552   3574.6988  159.692152   \n",
       "\n",
       "             106        107         108        109        110        111  \\\n",
       "17935  111875.00  3132.5000   87.710000  1953125.0   54687.50  1531.2500   \n",
       "17344   55447.04  1839.8336   61.049024   681472.0   22612.48   750.3232   \n",
       "12296  240483.62  3457.8414   49.719258  4826809.0   69403.23   997.9281   \n",
       "12491  174655.66  5459.4352  170.652544  3442951.0  107620.72  3364.0384   \n",
       "6112   205067.98  4550.3250  100.968750  4826809.0  107103.75  2376.5625   \n",
       "...          ...        ...         ...        ...        ...        ...   \n",
       "9674    49096.96  1802.0816   66.144586   681472.0   25013.12   918.0952   \n",
       "28394   89424.00  3085.1280  106.436916  1728000.0   59616.00  2056.7520   \n",
       "1864    73646.82  2215.6992   66.660352  1601613.0   48185.28  1449.6768   \n",
       "11603   58757.76  2786.6304  132.158016  1030301.0   48862.79  2317.3541   \n",
       "15356   66175.22  2956.2388  132.063752  1225043.0   54726.22  2444.7788   \n",
       "\n",
       "              112  \n",
       "17935   42.875000  \n",
       "17344   24.897088  \n",
       "12296   14.348907  \n",
       "12491  105.154048  \n",
       "6112    52.734375  \n",
       "...           ...  \n",
       "9674    33.698267  \n",
       "28394   70.957944  \n",
       "1864    43.614208  \n",
       "11603  109.902239  \n",
       "15356  109.215352  \n",
       "\n",
       "[6320 rows x 113 columns]"
      ]
     },
     "execution_count": 56,
     "metadata": {},
     "output_type": "execute_result"
    }
   ],
   "source": [
    "x_test_poly"
   ]
  },
  {
   "cell_type": "code",
   "execution_count": 57,
   "id": "b882604a-7a5c-4eef-ba18-69567716fc07",
   "metadata": {
    "tags": []
   },
   "outputs": [],
   "source": [
    "# concat ohe ord and poly df\n",
    "x_train_3 = pd.concat([x_train_ord,x_train_ohe,x_train_poly], axis = 1)\n",
    "x_test_3 = pd.concat([x_test_ord,x_test_ohe,x_test_poly], axis = 1)"
   ]
  },
  {
   "cell_type": "code",
   "execution_count": null,
   "id": "6f79ed1c-28e1-40d6-917e-550c4c178b85",
   "metadata": {
    "tags": []
   },
   "outputs": [],
   "source": []
  },
  {
   "cell_type": "code",
   "execution_count": 58,
   "id": "419d4877-2e2d-4d80-bdc7-fc8eca6a20ce",
   "metadata": {
    "tags": []
   },
   "outputs": [
    {
     "data": {
      "text/html": [
       "<div>\n",
       "<style scoped>\n",
       "    .dataframe tbody tr th:only-of-type {\n",
       "        vertical-align: middle;\n",
       "    }\n",
       "\n",
       "    .dataframe tbody tr th {\n",
       "        vertical-align: top;\n",
       "    }\n",
       "\n",
       "    .dataframe thead th {\n",
       "        text-align: right;\n",
       "    }\n",
       "</style>\n",
       "<table border=\"1\" class=\"dataframe\">\n",
       "  <thead>\n",
       "    <tr style=\"text-align: right;\">\n",
       "      <th></th>\n",
       "      <th>method</th>\n",
       "      <th>train_r2</th>\n",
       "      <th>test_r2</th>\n",
       "      <th>train_adj_r2</th>\n",
       "      <th>test_adj_r2</th>\n",
       "      <th>train_mae</th>\n",
       "      <th>test_mae</th>\n",
       "    </tr>\n",
       "  </thead>\n",
       "  <tbody>\n",
       "    <tr>\n",
       "      <th>0</th>\n",
       "      <td>baseline</td>\n",
       "      <td>0.584668</td>\n",
       "      <td>0.575450</td>\n",
       "      <td>0.584206</td>\n",
       "      <td>0.573553</td>\n",
       "      <td>7.326350</td>\n",
       "      <td>7.449752</td>\n",
       "    </tr>\n",
       "    <tr>\n",
       "      <th>0</th>\n",
       "      <td>missing_value_impute and scaling</td>\n",
       "      <td>0.581353</td>\n",
       "      <td>0.567569</td>\n",
       "      <td>0.580955</td>\n",
       "      <td>0.565920</td>\n",
       "      <td>7.446236</td>\n",
       "      <td>7.299797</td>\n",
       "    </tr>\n",
       "    <tr>\n",
       "      <th>0</th>\n",
       "      <td>missing_value_impute and scaling and log of y</td>\n",
       "      <td>0.544321</td>\n",
       "      <td>0.528285</td>\n",
       "      <td>0.543888</td>\n",
       "      <td>0.526486</td>\n",
       "      <td>0.131534</td>\n",
       "      <td>0.128183</td>\n",
       "    </tr>\n",
       "    <tr>\n",
       "      <th>0</th>\n",
       "      <td>polynomail featurs of num col without scaling ...</td>\n",
       "      <td>0.615041</td>\n",
       "      <td>0.592340</td>\n",
       "      <td>0.613051</td>\n",
       "      <td>0.583777</td>\n",
       "      <td>7.056225</td>\n",
       "      <td>6.996530</td>\n",
       "    </tr>\n",
       "  </tbody>\n",
       "</table>\n",
       "</div>"
      ],
      "text/plain": [
       "                                              method  train_r2   test_r2  \\\n",
       "0                                           baseline  0.584668  0.575450   \n",
       "0                   missing_value_impute and scaling  0.581353  0.567569   \n",
       "0      missing_value_impute and scaling and log of y  0.544321  0.528285   \n",
       "0  polynomail featurs of num col without scaling ...  0.615041  0.592340   \n",
       "\n",
       "   train_adj_r2  test_adj_r2  train_mae  test_mae  \n",
       "0      0.584206     0.573553   7.326350  7.449752  \n",
       "0      0.580955     0.565920   7.446236  7.299797  \n",
       "0      0.543888     0.526486   0.131534  0.128183  \n",
       "0      0.613051     0.583777   7.056225  6.996530  "
      ]
     },
     "execution_count": 58,
     "metadata": {},
     "output_type": "execute_result"
    }
   ],
   "source": [
    "Evalution('polynomail featurs of num col without scaling and null values imputed', x_train_3.values, x_test_3.values, y_train,y_test)"
   ]
  },
  {
   "cell_type": "code",
   "execution_count": null,
   "id": "71749ca9-a000-4665-b785-773318558a10",
   "metadata": {},
   "outputs": [],
   "source": []
  },
  {
   "cell_type": "markdown",
   "id": "c0159654-4fe2-453c-97c7-121bde93d00f",
   "metadata": {},
   "source": [
    "### Scaling of Polynomial features"
   ]
  },
  {
   "cell_type": "code",
   "execution_count": 59,
   "id": "7b7fe944-7e0d-4bd7-9a12-386256d50c68",
   "metadata": {
    "tags": []
   },
   "outputs": [],
   "source": [
    "# StandardScaler, MinMaxScaler \n",
    "std = StandardScaler()\n",
    "x_train_poly_std = pd.DataFrame(std.fit_transform(x_train_poly), index = x_train.index)\n",
    "x_test_poly_std = pd.DataFrame(std.transform(x_test_poly), index = x_test.index)"
   ]
  },
  {
   "cell_type": "code",
   "execution_count": 60,
   "id": "545a7882-2a60-4f30-9f21-9d7ad4a868da",
   "metadata": {
    "tags": []
   },
   "outputs": [],
   "source": [
    "x_train_4 = pd.concat([x_train_ord ,x_train_ohe ,x_train_poly_std], axis = 1)\n",
    "x_test_4 = pd.concat([x_test_ord ,x_test_ohe ,x_test_poly_std], axis = 1)"
   ]
  },
  {
   "cell_type": "code",
   "execution_count": 61,
   "id": "12ea2245-edba-4f27-b916-a3c61ee102df",
   "metadata": {
    "tags": []
   },
   "outputs": [
    {
     "data": {
      "text/html": [
       "<div>\n",
       "<style scoped>\n",
       "    .dataframe tbody tr th:only-of-type {\n",
       "        vertical-align: middle;\n",
       "    }\n",
       "\n",
       "    .dataframe tbody tr th {\n",
       "        vertical-align: top;\n",
       "    }\n",
       "\n",
       "    .dataframe thead th {\n",
       "        text-align: right;\n",
       "    }\n",
       "</style>\n",
       "<table border=\"1\" class=\"dataframe\">\n",
       "  <thead>\n",
       "    <tr style=\"text-align: right;\">\n",
       "      <th></th>\n",
       "      <th>method</th>\n",
       "      <th>train_r2</th>\n",
       "      <th>test_r2</th>\n",
       "      <th>train_adj_r2</th>\n",
       "      <th>test_adj_r2</th>\n",
       "      <th>train_mae</th>\n",
       "      <th>test_mae</th>\n",
       "    </tr>\n",
       "  </thead>\n",
       "  <tbody>\n",
       "    <tr>\n",
       "      <th>0</th>\n",
       "      <td>baseline</td>\n",
       "      <td>0.584668</td>\n",
       "      <td>0.575450</td>\n",
       "      <td>0.584206</td>\n",
       "      <td>0.573553</td>\n",
       "      <td>7.326350</td>\n",
       "      <td>7.449752</td>\n",
       "    </tr>\n",
       "    <tr>\n",
       "      <th>0</th>\n",
       "      <td>missing_value_impute and scaling</td>\n",
       "      <td>0.581353</td>\n",
       "      <td>0.567569</td>\n",
       "      <td>0.580955</td>\n",
       "      <td>0.565920</td>\n",
       "      <td>7.446236</td>\n",
       "      <td>7.299797</td>\n",
       "    </tr>\n",
       "    <tr>\n",
       "      <th>0</th>\n",
       "      <td>missing_value_impute and scaling and log of y</td>\n",
       "      <td>0.544321</td>\n",
       "      <td>0.528285</td>\n",
       "      <td>0.543888</td>\n",
       "      <td>0.526486</td>\n",
       "      <td>0.131534</td>\n",
       "      <td>0.128183</td>\n",
       "    </tr>\n",
       "    <tr>\n",
       "      <th>0</th>\n",
       "      <td>polynomail featurs of num col without scaling ...</td>\n",
       "      <td>0.615041</td>\n",
       "      <td>0.592340</td>\n",
       "      <td>0.613051</td>\n",
       "      <td>0.583777</td>\n",
       "      <td>7.056225</td>\n",
       "      <td>6.996530</td>\n",
       "    </tr>\n",
       "    <tr>\n",
       "      <th>0</th>\n",
       "      <td>polynomail featurs of num col with scaling and...</td>\n",
       "      <td>0.615042</td>\n",
       "      <td>0.592339</td>\n",
       "      <td>0.613052</td>\n",
       "      <td>0.583776</td>\n",
       "      <td>7.056169</td>\n",
       "      <td>6.996416</td>\n",
       "    </tr>\n",
       "  </tbody>\n",
       "</table>\n",
       "</div>"
      ],
      "text/plain": [
       "                                              method  train_r2   test_r2  \\\n",
       "0                                           baseline  0.584668  0.575450   \n",
       "0                   missing_value_impute and scaling  0.581353  0.567569   \n",
       "0      missing_value_impute and scaling and log of y  0.544321  0.528285   \n",
       "0  polynomail featurs of num col without scaling ...  0.615041  0.592340   \n",
       "0  polynomail featurs of num col with scaling and...  0.615042  0.592339   \n",
       "\n",
       "   train_adj_r2  test_adj_r2  train_mae  test_mae  \n",
       "0      0.584206     0.573553   7.326350  7.449752  \n",
       "0      0.580955     0.565920   7.446236  7.299797  \n",
       "0      0.543888     0.526486   0.131534  0.128183  \n",
       "0      0.613051     0.583777   7.056225  6.996530  \n",
       "0      0.613052     0.583776   7.056169  6.996416  "
      ]
     },
     "execution_count": 61,
     "metadata": {},
     "output_type": "execute_result"
    }
   ],
   "source": [
    "Evalution('polynomail featurs of num col with scaling and null values imputed', x_train_4.values, x_test_4.values, y_train,y_test)"
   ]
  },
  {
   "cell_type": "code",
   "execution_count": null,
   "id": "1412672b-c948-4667-a9d0-8acf76bf42cf",
   "metadata": {
    "tags": []
   },
   "outputs": [],
   "source": []
  },
  {
   "cell_type": "markdown",
   "id": "871cf788-c2b0-454a-a995-16ef01412cf0",
   "metadata": {},
   "source": [
    "## Outliers Handle \n"
   ]
  },
  {
   "cell_type": "code",
   "execution_count": 62,
   "id": "2b1b39ad-ebea-481c-9711-b02bcb986d37",
   "metadata": {
    "tags": []
   },
   "outputs": [],
   "source": [
    "x_train_ = x_train.copy()\n",
    "x_test_ = x_test.copy()"
   ]
  },
  {
   "cell_type": "code",
   "execution_count": 63,
   "id": "b68abf5a-c609-44d0-a905-584828903fe3",
   "metadata": {
    "tags": []
   },
   "outputs": [],
   "source": [
    "# make a function that find that outlier in each column \n",
    "def CheckOutliers(df):\n",
    "    columns = [ i for i in df.columns if df[i].dtype != \"O\"]\n",
    "    ol= pd.DataFrame({'method':[],'Column':[],'No_of_outliers':[],'Persantage_of_outliers':[]})\n",
    "    \n",
    "    for col in columns:\n",
    "        if -0.5 < df[col].skew() < 0.5:\n",
    "            ub = df[col].mean() + (df[col].std())*3\n",
    "            lb = df[col].mean() - (df[col].std())*3\n",
    "            outliers = len(df[(df[col] > ub) | (df[col] < lb)][col])\n",
    "            perchentage_of_Outlier = round((outliers/len(df)) * 100,2)\n",
    "            temp = pd.DataFrame({'method':['Z-Score'],'Column':[col],'No_of_outliers':[outliers],\n",
    "                                 'Persantage_of_outliers':[perchentage_of_Outlier]})\n",
    "            \n",
    "            ol = pd.concat([ol,temp]).reset_index(drop = True)\n",
    "            \n",
    "        else:\n",
    "            q1 = df[col].quantile(0.25)\n",
    "            q3 = df[col].quantile(0.75)\n",
    "            iqr = q3 - q1\n",
    "            lw = q1 - 1.5*(iqr)\n",
    "            uw = q3 + 1.5*(iqr)\n",
    "            \n",
    "            outliers = len(df[(df[col] > uw) | (df[col] < lw)][col])\n",
    "            perchentage_of_Outlier = round((outliers/len(df)) * 100,2)\n",
    "            tempp = pd.DataFrame({'method':['IQR'],'Column':[col],'No_of_outliers':[outliers],\n",
    "                                 'Persantage_of_outliers':[perchentage_of_Outlier]})\n",
    "            \n",
    "            ol = pd.concat([ol,tempp]).reset_index(drop = True)\n",
    "    \n",
    "    return ol"
   ]
  },
  {
   "cell_type": "code",
   "execution_count": 64,
   "id": "4cbedc93-3acf-4c1b-bbfd-90eca665f01c",
   "metadata": {
    "tags": []
   },
   "outputs": [
    {
     "data": {
      "text/html": [
       "<div>\n",
       "<style scoped>\n",
       "    .dataframe tbody tr th:only-of-type {\n",
       "        vertical-align: middle;\n",
       "    }\n",
       "\n",
       "    .dataframe tbody tr th {\n",
       "        vertical-align: top;\n",
       "    }\n",
       "\n",
       "    .dataframe thead th {\n",
       "        text-align: right;\n",
       "    }\n",
       "</style>\n",
       "<table border=\"1\" class=\"dataframe\">\n",
       "  <thead>\n",
       "    <tr style=\"text-align: right;\">\n",
       "      <th></th>\n",
       "      <th>method</th>\n",
       "      <th>Column</th>\n",
       "      <th>No_of_outliers</th>\n",
       "      <th>Persantage_of_outliers</th>\n",
       "    </tr>\n",
       "  </thead>\n",
       "  <tbody>\n",
       "    <tr>\n",
       "      <th>0</th>\n",
       "      <td>IQR</td>\n",
       "      <td>Property_Area</td>\n",
       "      <td>1372.0</td>\n",
       "      <td>4.34</td>\n",
       "    </tr>\n",
       "    <tr>\n",
       "      <th>1</th>\n",
       "      <td>IQR</td>\n",
       "      <td>Number_of_Windows</td>\n",
       "      <td>1602.0</td>\n",
       "      <td>5.07</td>\n",
       "    </tr>\n",
       "    <tr>\n",
       "      <th>2</th>\n",
       "      <td>IQR</td>\n",
       "      <td>Number_of_Doors</td>\n",
       "      <td>0.0</td>\n",
       "      <td>0.00</td>\n",
       "    </tr>\n",
       "    <tr>\n",
       "      <th>3</th>\n",
       "      <td>IQR</td>\n",
       "      <td>Frequency_of_Powercuts</td>\n",
       "      <td>977.0</td>\n",
       "      <td>3.09</td>\n",
       "    </tr>\n",
       "    <tr>\n",
       "      <th>4</th>\n",
       "      <td>IQR</td>\n",
       "      <td>Traffic_Density_Score</td>\n",
       "      <td>447.0</td>\n",
       "      <td>1.41</td>\n",
       "    </tr>\n",
       "    <tr>\n",
       "      <th>5</th>\n",
       "      <td>IQR</td>\n",
       "      <td>Air_Quality_Index</td>\n",
       "      <td>628.0</td>\n",
       "      <td>1.99</td>\n",
       "    </tr>\n",
       "    <tr>\n",
       "      <th>6</th>\n",
       "      <td>IQR</td>\n",
       "      <td>Neighborhood_Review</td>\n",
       "      <td>554.0</td>\n",
       "      <td>1.75</td>\n",
       "    </tr>\n",
       "    <tr>\n",
       "      <th>7</th>\n",
       "      <td>IQR</td>\n",
       "      <td>Habitability_score</td>\n",
       "      <td>2672.0</td>\n",
       "      <td>8.46</td>\n",
       "    </tr>\n",
       "  </tbody>\n",
       "</table>\n",
       "</div>"
      ],
      "text/plain": [
       "  method                  Column  No_of_outliers  Persantage_of_outliers\n",
       "0    IQR           Property_Area          1372.0                    4.34\n",
       "1    IQR       Number_of_Windows          1602.0                    5.07\n",
       "2    IQR         Number_of_Doors             0.0                    0.00\n",
       "3    IQR  Frequency_of_Powercuts           977.0                    3.09\n",
       "4    IQR   Traffic_Density_Score           447.0                    1.41\n",
       "5    IQR       Air_Quality_Index           628.0                    1.99\n",
       "6    IQR     Neighborhood_Review           554.0                    1.75\n",
       "7    IQR      Habitability_score          2672.0                    8.46"
      ]
     },
     "execution_count": 64,
     "metadata": {},
     "output_type": "execute_result"
    }
   ],
   "source": [
    "CheckOutliers(train_df)"
   ]
  },
  {
   "cell_type": "code",
   "execution_count": 65,
   "id": "1e9a95a6-f4a1-4183-9053-a0c37b62b557",
   "metadata": {
    "tags": []
   },
   "outputs": [
    {
     "name": "stderr",
     "output_type": "stream",
     "text": [
      "C:\\Users\\HP\\anaconda3\\Lib\\site-packages\\pandas\\core\\internals\\blocks.py:351: RuntimeWarning: divide by zero encountered in log\n",
      "  result = func(self.values, **kwargs)\n",
      "C:\\Users\\HP\\anaconda3\\Lib\\site-packages\\numpy\\lib\\function_base.py:4573: RuntimeWarning: invalid value encountered in subtract\n",
      "  diff_b_a = subtract(b, a)\n"
     ]
    },
    {
     "data": {
      "text/html": [
       "<div>\n",
       "<style scoped>\n",
       "    .dataframe tbody tr th:only-of-type {\n",
       "        vertical-align: middle;\n",
       "    }\n",
       "\n",
       "    .dataframe tbody tr th {\n",
       "        vertical-align: top;\n",
       "    }\n",
       "\n",
       "    .dataframe thead th {\n",
       "        text-align: right;\n",
       "    }\n",
       "</style>\n",
       "<table border=\"1\" class=\"dataframe\">\n",
       "  <thead>\n",
       "    <tr style=\"text-align: right;\">\n",
       "      <th></th>\n",
       "      <th>method</th>\n",
       "      <th>Column</th>\n",
       "      <th>No_of_outliers</th>\n",
       "      <th>Persantage_of_outliers</th>\n",
       "    </tr>\n",
       "  </thead>\n",
       "  <tbody>\n",
       "    <tr>\n",
       "      <th>0</th>\n",
       "      <td>Z-Score</td>\n",
       "      <td>Property_Area</td>\n",
       "      <td>269.0</td>\n",
       "      <td>0.85</td>\n",
       "    </tr>\n",
       "    <tr>\n",
       "      <th>1</th>\n",
       "      <td>IQR</td>\n",
       "      <td>Number_of_Windows</td>\n",
       "      <td>571.0</td>\n",
       "      <td>1.81</td>\n",
       "    </tr>\n",
       "    <tr>\n",
       "      <th>2</th>\n",
       "      <td>Z-Score</td>\n",
       "      <td>Number_of_Doors</td>\n",
       "      <td>0.0</td>\n",
       "      <td>0.00</td>\n",
       "    </tr>\n",
       "    <tr>\n",
       "      <th>3</th>\n",
       "      <td>IQR</td>\n",
       "      <td>Frequency_of_Powercuts</td>\n",
       "      <td>0.0</td>\n",
       "      <td>0.00</td>\n",
       "    </tr>\n",
       "    <tr>\n",
       "      <th>4</th>\n",
       "      <td>IQR</td>\n",
       "      <td>Traffic_Density_Score</td>\n",
       "      <td>1025.0</td>\n",
       "      <td>3.24</td>\n",
       "    </tr>\n",
       "    <tr>\n",
       "      <th>5</th>\n",
       "      <td>IQR</td>\n",
       "      <td>Air_Quality_Index</td>\n",
       "      <td>960.0</td>\n",
       "      <td>3.04</td>\n",
       "    </tr>\n",
       "    <tr>\n",
       "      <th>6</th>\n",
       "      <td>IQR</td>\n",
       "      <td>Neighborhood_Review</td>\n",
       "      <td>1128.0</td>\n",
       "      <td>3.57</td>\n",
       "    </tr>\n",
       "    <tr>\n",
       "      <th>7</th>\n",
       "      <td>IQR</td>\n",
       "      <td>Habitability_score</td>\n",
       "      <td>2779.0</td>\n",
       "      <td>8.79</td>\n",
       "    </tr>\n",
       "  </tbody>\n",
       "</table>\n",
       "</div>"
      ],
      "text/plain": [
       "    method                  Column  No_of_outliers  Persantage_of_outliers\n",
       "0  Z-Score           Property_Area           269.0                    0.85\n",
       "1      IQR       Number_of_Windows           571.0                    1.81\n",
       "2  Z-Score         Number_of_Doors             0.0                    0.00\n",
       "3      IQR  Frequency_of_Powercuts             0.0                    0.00\n",
       "4      IQR   Traffic_Density_Score          1025.0                    3.24\n",
       "5      IQR       Air_Quality_Index           960.0                    3.04\n",
       "6      IQR     Neighborhood_Review          1128.0                    3.57\n",
       "7      IQR      Habitability_score          2779.0                    8.79"
      ]
     },
     "execution_count": 65,
     "metadata": {},
     "output_type": "execute_result"
    }
   ],
   "source": [
    "CheckOutliers(np.log(train_df[num_col]))"
   ]
  },
  {
   "cell_type": "code",
   "execution_count": 66,
   "id": "2c137642-14e3-4257-9956-2bac31142fb6",
   "metadata": {
    "tags": []
   },
   "outputs": [],
   "source": [
    "# after log transformation only 3 columns oulier reduace so we only transform 3 columns \n",
    "\n",
    "ot_col = ['Property_Area','Number_of_Windows','Frequency_of_Powercuts']"
   ]
  },
  {
   "cell_type": "code",
   "execution_count": 67,
   "id": "a6c7b2ae-6595-4acc-8c8f-44d00a024768",
   "metadata": {
    "tags": []
   },
   "outputs": [],
   "source": [
    "x_train_[ot_col] = np.log(x_train_[ot_col]+0.0000001)"
   ]
  },
  {
   "cell_type": "code",
   "execution_count": 68,
   "id": "e0ec5bca-ed02-43a5-aa25-cc6a87537cde",
   "metadata": {
    "tags": []
   },
   "outputs": [],
   "source": [
    "x_test_[ot_col] = np.log(x_test_[ot_col]+0.0000001)"
   ]
  },
  {
   "cell_type": "code",
   "execution_count": null,
   "id": "82375c11-f447-452c-b42f-b0ee204d2748",
   "metadata": {
    "tags": []
   },
   "outputs": [],
   "source": []
  },
  {
   "cell_type": "code",
   "execution_count": 3,
   "id": "42220c04-bb26-4d10-9a20-df3161b1aa14",
   "metadata": {
    "tags": []
   },
   "outputs": [],
   "source": [
    "# create Polynomial features of num columns with outlier handel columns also\n",
    "\n",
    "poly = PolynomialFeatures((2,3))\n",
    "\n",
    "x_train_poly_ot = pd.DataFrame(poly.fit_transform(x_train_[num_col[0:-1]]), index = x_train_.index)\n",
    "x_test_poly_ot = pd.DataFrame(poly.transform(x_test_[num_col[0:-1]]), index = x_test_.index)"
   ]
  },
  {
   "cell_type": "code",
   "execution_count": 70,
   "id": "fe1835d1-4d14-4c70-afa0-972bc3ead00d",
   "metadata": {
    "tags": []
   },
   "outputs": [],
   "source": [
    "# StandardScaler, MinMaxScaler \n",
    "\n",
    "std = StandardScaler()\n",
    "x_train_poly_std_ot = pd.DataFrame(std.fit_transform(x_train_poly_ot), index = x_train.index)\n",
    "x_test_poly_std_ot = pd.DataFrame(std.transform(x_test_poly_ot), index = x_test.index)"
   ]
  },
  {
   "cell_type": "code",
   "execution_count": null,
   "id": "d0fdb3c9-2191-451e-b31b-23f3951ec3c6",
   "metadata": {},
   "outputs": [],
   "source": []
  },
  {
   "cell_type": "code",
   "execution_count": 71,
   "id": "08335899-9af7-485c-b650-8fd35370f69c",
   "metadata": {
    "tags": []
   },
   "outputs": [],
   "source": [
    "# concat ohe ord and std_polynomial featurs for new x_train\n",
    "x_train_5 = pd.concat([x_train_ord ,x_train_ohe , x_train_poly_std_ot], axis = 1)\n",
    "x_test_5 = pd.concat([x_test_ord , x_test_ohe , x_test_poly_std_ot], axis = 1)"
   ]
  },
  {
   "cell_type": "code",
   "execution_count": 72,
   "id": "0500674f-a9b6-44d0-903e-c5d0ff173667",
   "metadata": {
    "tags": []
   },
   "outputs": [
    {
     "data": {
      "text/html": [
       "<div>\n",
       "<style scoped>\n",
       "    .dataframe tbody tr th:only-of-type {\n",
       "        vertical-align: middle;\n",
       "    }\n",
       "\n",
       "    .dataframe tbody tr th {\n",
       "        vertical-align: top;\n",
       "    }\n",
       "\n",
       "    .dataframe thead th {\n",
       "        text-align: right;\n",
       "    }\n",
       "</style>\n",
       "<table border=\"1\" class=\"dataframe\">\n",
       "  <thead>\n",
       "    <tr style=\"text-align: right;\">\n",
       "      <th></th>\n",
       "      <th>method</th>\n",
       "      <th>train_r2</th>\n",
       "      <th>test_r2</th>\n",
       "      <th>train_adj_r2</th>\n",
       "      <th>test_adj_r2</th>\n",
       "      <th>train_mae</th>\n",
       "      <th>test_mae</th>\n",
       "    </tr>\n",
       "  </thead>\n",
       "  <tbody>\n",
       "    <tr>\n",
       "      <th>0</th>\n",
       "      <td>baseline</td>\n",
       "      <td>0.584668</td>\n",
       "      <td>0.575450</td>\n",
       "      <td>0.584206</td>\n",
       "      <td>0.573553</td>\n",
       "      <td>7.326350</td>\n",
       "      <td>7.449752</td>\n",
       "    </tr>\n",
       "    <tr>\n",
       "      <th>0</th>\n",
       "      <td>missing_value_impute and scaling</td>\n",
       "      <td>0.581353</td>\n",
       "      <td>0.567569</td>\n",
       "      <td>0.580955</td>\n",
       "      <td>0.565920</td>\n",
       "      <td>7.446236</td>\n",
       "      <td>7.299797</td>\n",
       "    </tr>\n",
       "    <tr>\n",
       "      <th>0</th>\n",
       "      <td>missing_value_impute and scaling and log of y</td>\n",
       "      <td>0.544321</td>\n",
       "      <td>0.528285</td>\n",
       "      <td>0.543888</td>\n",
       "      <td>0.526486</td>\n",
       "      <td>0.131534</td>\n",
       "      <td>0.128183</td>\n",
       "    </tr>\n",
       "    <tr>\n",
       "      <th>0</th>\n",
       "      <td>polynomail featurs of num col without scaling ...</td>\n",
       "      <td>0.615041</td>\n",
       "      <td>0.592340</td>\n",
       "      <td>0.613051</td>\n",
       "      <td>0.583777</td>\n",
       "      <td>7.056225</td>\n",
       "      <td>6.996530</td>\n",
       "    </tr>\n",
       "    <tr>\n",
       "      <th>0</th>\n",
       "      <td>polynomail featurs of num col with scaling and...</td>\n",
       "      <td>0.615042</td>\n",
       "      <td>0.592339</td>\n",
       "      <td>0.613052</td>\n",
       "      <td>0.583776</td>\n",
       "      <td>7.056169</td>\n",
       "      <td>6.996416</td>\n",
       "    </tr>\n",
       "    <tr>\n",
       "      <th>0</th>\n",
       "      <td>3 col ot handle and poly_std and impute</td>\n",
       "      <td>0.618135</td>\n",
       "      <td>0.595425</td>\n",
       "      <td>0.616161</td>\n",
       "      <td>0.586927</td>\n",
       "      <td>7.042016</td>\n",
       "      <td>6.982998</td>\n",
       "    </tr>\n",
       "  </tbody>\n",
       "</table>\n",
       "</div>"
      ],
      "text/plain": [
       "                                              method  train_r2   test_r2  \\\n",
       "0                                           baseline  0.584668  0.575450   \n",
       "0                   missing_value_impute and scaling  0.581353  0.567569   \n",
       "0      missing_value_impute and scaling and log of y  0.544321  0.528285   \n",
       "0  polynomail featurs of num col without scaling ...  0.615041  0.592340   \n",
       "0  polynomail featurs of num col with scaling and...  0.615042  0.592339   \n",
       "0           3 col ot handle and poly_std and impute   0.618135  0.595425   \n",
       "\n",
       "   train_adj_r2  test_adj_r2  train_mae  test_mae  \n",
       "0      0.584206     0.573553   7.326350  7.449752  \n",
       "0      0.580955     0.565920   7.446236  7.299797  \n",
       "0      0.543888     0.526486   0.131534  0.128183  \n",
       "0      0.613051     0.583777   7.056225  6.996530  \n",
       "0      0.613052     0.583776   7.056169  6.996416  \n",
       "0      0.616161     0.586927   7.042016  6.982998  "
      ]
     },
     "execution_count": 72,
     "metadata": {},
     "output_type": "execute_result"
    }
   ],
   "source": [
    "Evalution('3 col ot handle and poly_std and impute ', x_train_5.values, x_test_5.values, y_train,y_test)"
   ]
  },
  {
   "cell_type": "code",
   "execution_count": null,
   "id": "7a7b2977-ccff-4bef-970d-0c3982d7e74e",
   "metadata": {},
   "outputs": [],
   "source": []
  },
  {
   "cell_type": "code",
   "execution_count": null,
   "id": "0cf964b9-d279-4794-9237-38550fd788b4",
   "metadata": {
    "tags": []
   },
   "outputs": [],
   "source": []
  },
  {
   "cell_type": "markdown",
   "id": "acb91cd7-03b0-4bf8-b1c4-5131097a5066",
   "metadata": {},
   "source": [
    "### 'yeo-johnson method to handel the outliers"
   ]
  },
  {
   "cell_type": "code",
   "execution_count": 73,
   "id": "c091ce0c-9690-4a20-8a90-1a766db31c36",
   "metadata": {
    "tags": []
   },
   "outputs": [],
   "source": [
    "x_train_new = x_train.copy()\n",
    "x_test_new = x_test.copy()"
   ]
  },
  {
   "cell_type": "code",
   "execution_count": 74,
   "id": "138cd6ac-41da-4899-b89d-0a71dc651b20",
   "metadata": {
    "tags": []
   },
   "outputs": [],
   "source": [
    " \n",
    "from sklearn.preprocessing import PowerTransformer\n",
    "pt = PowerTransformer(method='yeo-johnson')\n",
    "\n",
    "x_train_new[num_col[0:-1]] = pt.fit_transform(x_train_new[num_col[0:-1]])\n",
    "x_test_new[num_col[0:-1]] = pt.transform(x_test_new[num_col[0:-1]])"
   ]
  },
  {
   "cell_type": "code",
   "execution_count": 75,
   "id": "f4f91c6e-332f-4211-9a76-211a34270e8c",
   "metadata": {
    "tags": []
   },
   "outputs": [],
   "source": [
    "# create Polynomial features after outlier handel with yeo johnson method \n",
    "\n",
    "poly = PolynomialFeatures((2,3))\n",
    "\n",
    "x_train_poly_yeo = pd.DataFrame(poly.fit_transform(x_train_new[num_col[0:-1]]), index = x_train_new.index)\n",
    "x_test_poly_yeo = pd.DataFrame(poly.transform(x_test_new[num_col[0:-1]]), index = x_test_new.index)"
   ]
  },
  {
   "cell_type": "code",
   "execution_count": 76,
   "id": "984f4049-6bea-46c8-8e2a-54436b873fb7",
   "metadata": {
    "tags": []
   },
   "outputs": [],
   "source": [
    "# StandardScaler, MinMaxScaler \n",
    "\n",
    "std = StandardScaler()\n",
    "x_train_poly_std_yeo = pd.DataFrame(std.fit_transform(x_train_poly_yeo), index = x_train.index)\n",
    "x_test_poly_std_yeo = pd.DataFrame(std.transform(x_test_poly_yeo), index = x_test.index)"
   ]
  },
  {
   "cell_type": "code",
   "execution_count": 77,
   "id": "25b619f2-3726-4de5-baf9-b791477347d0",
   "metadata": {
    "tags": []
   },
   "outputs": [],
   "source": [
    "# concat ohe ord and std_polynomial featurs for new x_train\n",
    "\n",
    "x_train_6 = pd.concat([x_train_ord ,x_train_ohe , x_train_poly_std_yeo], axis = 1)\n",
    "x_test_6 = pd.concat([x_test_ord , x_test_ohe , x_test_poly_std_yeo], axis = 1)"
   ]
  },
  {
   "cell_type": "code",
   "execution_count": 78,
   "id": "a795fb9c-0643-4702-8ca2-8243435fb235",
   "metadata": {
    "tags": []
   },
   "outputs": [
    {
     "data": {
      "text/html": [
       "<div>\n",
       "<style scoped>\n",
       "    .dataframe tbody tr th:only-of-type {\n",
       "        vertical-align: middle;\n",
       "    }\n",
       "\n",
       "    .dataframe tbody tr th {\n",
       "        vertical-align: top;\n",
       "    }\n",
       "\n",
       "    .dataframe thead th {\n",
       "        text-align: right;\n",
       "    }\n",
       "</style>\n",
       "<table border=\"1\" class=\"dataframe\">\n",
       "  <thead>\n",
       "    <tr style=\"text-align: right;\">\n",
       "      <th></th>\n",
       "      <th>method</th>\n",
       "      <th>train_r2</th>\n",
       "      <th>test_r2</th>\n",
       "      <th>train_adj_r2</th>\n",
       "      <th>test_adj_r2</th>\n",
       "      <th>train_mae</th>\n",
       "      <th>test_mae</th>\n",
       "    </tr>\n",
       "  </thead>\n",
       "  <tbody>\n",
       "    <tr>\n",
       "      <th>0</th>\n",
       "      <td>baseline</td>\n",
       "      <td>0.584668</td>\n",
       "      <td>0.575450</td>\n",
       "      <td>0.584206</td>\n",
       "      <td>0.573553</td>\n",
       "      <td>7.326350</td>\n",
       "      <td>7.449752</td>\n",
       "    </tr>\n",
       "    <tr>\n",
       "      <th>0</th>\n",
       "      <td>missing_value_impute and scaling</td>\n",
       "      <td>0.581353</td>\n",
       "      <td>0.567569</td>\n",
       "      <td>0.580955</td>\n",
       "      <td>0.565920</td>\n",
       "      <td>7.446236</td>\n",
       "      <td>7.299797</td>\n",
       "    </tr>\n",
       "    <tr>\n",
       "      <th>0</th>\n",
       "      <td>missing_value_impute and scaling and log of y</td>\n",
       "      <td>0.544321</td>\n",
       "      <td>0.528285</td>\n",
       "      <td>0.543888</td>\n",
       "      <td>0.526486</td>\n",
       "      <td>0.131534</td>\n",
       "      <td>0.128183</td>\n",
       "    </tr>\n",
       "    <tr>\n",
       "      <th>0</th>\n",
       "      <td>polynomail featurs of num col without scaling ...</td>\n",
       "      <td>0.615041</td>\n",
       "      <td>0.592340</td>\n",
       "      <td>0.613051</td>\n",
       "      <td>0.583777</td>\n",
       "      <td>7.056225</td>\n",
       "      <td>6.996530</td>\n",
       "    </tr>\n",
       "    <tr>\n",
       "      <th>0</th>\n",
       "      <td>polynomail featurs of num col with scaling and...</td>\n",
       "      <td>0.615042</td>\n",
       "      <td>0.592339</td>\n",
       "      <td>0.613052</td>\n",
       "      <td>0.583776</td>\n",
       "      <td>7.056169</td>\n",
       "      <td>6.996416</td>\n",
       "    </tr>\n",
       "    <tr>\n",
       "      <th>0</th>\n",
       "      <td>3 col ot handle and poly_std and impute</td>\n",
       "      <td>0.618135</td>\n",
       "      <td>0.595425</td>\n",
       "      <td>0.616161</td>\n",
       "      <td>0.586927</td>\n",
       "      <td>7.042016</td>\n",
       "      <td>6.982998</td>\n",
       "    </tr>\n",
       "    <tr>\n",
       "      <th>0</th>\n",
       "      <td>impute, ot handel yeo jhonson, poly feature, s...</td>\n",
       "      <td>0.614853</td>\n",
       "      <td>0.593960</td>\n",
       "      <td>0.612862</td>\n",
       "      <td>0.585431</td>\n",
       "      <td>7.047639</td>\n",
       "      <td>6.964144</td>\n",
       "    </tr>\n",
       "  </tbody>\n",
       "</table>\n",
       "</div>"
      ],
      "text/plain": [
       "                                              method  train_r2   test_r2  \\\n",
       "0                                           baseline  0.584668  0.575450   \n",
       "0                   missing_value_impute and scaling  0.581353  0.567569   \n",
       "0      missing_value_impute and scaling and log of y  0.544321  0.528285   \n",
       "0  polynomail featurs of num col without scaling ...  0.615041  0.592340   \n",
       "0  polynomail featurs of num col with scaling and...  0.615042  0.592339   \n",
       "0           3 col ot handle and poly_std and impute   0.618135  0.595425   \n",
       "0  impute, ot handel yeo jhonson, poly feature, s...  0.614853  0.593960   \n",
       "\n",
       "   train_adj_r2  test_adj_r2  train_mae  test_mae  \n",
       "0      0.584206     0.573553   7.326350  7.449752  \n",
       "0      0.580955     0.565920   7.446236  7.299797  \n",
       "0      0.543888     0.526486   0.131534  0.128183  \n",
       "0      0.613051     0.583777   7.056225  6.996530  \n",
       "0      0.613052     0.583776   7.056169  6.996416  \n",
       "0      0.616161     0.586927   7.042016  6.982998  \n",
       "0      0.612862     0.585431   7.047639  6.964144  "
      ]
     },
     "execution_count": 78,
     "metadata": {},
     "output_type": "execute_result"
    }
   ],
   "source": [
    "Evalution('impute, ot handel yeo jhonson, poly feature, std scaling', x_train_6.values, x_test_6.values, y_train,y_test)"
   ]
  },
  {
   "cell_type": "code",
   "execution_count": null,
   "id": "801c76b8-b2fb-4167-aa54-11b6bbcd7671",
   "metadata": {},
   "outputs": [],
   "source": []
  },
  {
   "cell_type": "code",
   "execution_count": null,
   "id": "4a1b091c-06ca-4895-8b73-fd6b002c60ae",
   "metadata": {},
   "outputs": [],
   "source": []
  },
  {
   "cell_type": "markdown",
   "id": "45d9d667-76ef-4556-8815-912b8a5ca44f",
   "metadata": {},
   "source": [
    "### important Feature selection ( method = Recursive Feature Elimination 'RFE' )\n",
    "\n"
   ]
  },
  {
   "cell_type": "code",
   "execution_count": 91,
   "id": "db3cade4-5308-4cc9-8665-46e30edb3396",
   "metadata": {
    "tags": []
   },
   "outputs": [
    {
     "data": {
      "text/plain": [
       "array(['Furnishing', 'Crime_Rate', 'Dust_and_Noise',\n",
       "       'Property_Type_#R%$G&867', 'Property_Type_Apartment',\n",
       "       'Property_Type_Bungalow', 'Property_Type_Container Home',\n",
       "       'Property_Type_Duplex', 'Property_Type_Single-family home',\n",
       "       'Power_Backup_NOT MENTIONED', 'Power_Backup_No',\n",
       "       'Power_Backup_Yes', 'Water_Supply_All time',\n",
       "       'Water_Supply_NOT MENTIONED',\n",
       "       'Water_Supply_Once in a day - Evening',\n",
       "       'Water_Supply_Once in a day - Morning',\n",
       "       'Water_Supply_Once in two days', 'Number_of_Windows',\n",
       "       'Frequency_of_Powercuts', 'Neighborhood_Review'], dtype=object)"
      ]
     },
     "execution_count": 91,
     "metadata": {},
     "output_type": "execute_result"
    }
   ],
   "source": [
    "from sklearn.feature_selection import RFE\n",
    "lm = LinearRegression()\n",
    "rfe = RFE(estimator= lm, n_features_to_select = 20)\n",
    "selected_feature = rfe.fit_transform(x_train_2, y_train)\n",
    "rfe.get_feature_names_out()"
   ]
  },
  {
   "cell_type": "code",
   "execution_count": 92,
   "id": "a1e62aac-3293-45e7-8c4b-bbc34e0f800c",
   "metadata": {
    "tags": []
   },
   "outputs": [],
   "source": [
    "# these 4 columns are least important columns \n",
    "least_important_col =['Air_Quality_Index','Traffic_Density_Score','Number_of_Doors','Property_Area']"
   ]
  },
  {
   "cell_type": "code",
   "execution_count": 93,
   "id": "ee46295a-331b-42c7-91c5-2c4a79675533",
   "metadata": {
    "tags": []
   },
   "outputs": [],
   "source": [
    "x_train_N = x_train.copy()\n",
    "x_test_N = x_test.copy()"
   ]
  },
  {
   "cell_type": "code",
   "execution_count": 94,
   "id": "5b97a010-82a0-4430-a158-7693342128c0",
   "metadata": {
    "tags": []
   },
   "outputs": [],
   "source": [
    "# drop least important col\n",
    "\n",
    "x_train_N.drop(columns = least_important_col, inplace = True)\n",
    "x_test_N.drop(columns = least_important_col, inplace = True)"
   ]
  },
  {
   "cell_type": "code",
   "execution_count": 96,
   "id": "bd2f0380-b3e2-4178-86f0-fbffeed65368",
   "metadata": {
    "tags": []
   },
   "outputs": [
    {
     "data": {
      "text/plain": [
       "['Number_of_Windows', 'Frequency_of_Powercuts', 'Neighborhood_Review']"
      ]
     },
     "execution_count": 96,
     "metadata": {},
     "output_type": "execute_result"
    }
   ],
   "source": [
    "i_num_col =x_train_N.select_dtypes(exclude = 'O').columns.tolist()\n",
    "i_num_col"
   ]
  },
  {
   "cell_type": "code",
   "execution_count": 97,
   "id": "44117271-4b1b-4eab-93c8-9e9455005743",
   "metadata": {
    "tags": []
   },
   "outputs": [],
   "source": [
    "otl_col = ['Number_of_Windows','Frequency_of_Powercuts']"
   ]
  },
  {
   "cell_type": "code",
   "execution_count": 98,
   "id": "8d9fea8b-b9eb-4ecb-bb85-a0831aba3daa",
   "metadata": {
    "tags": []
   },
   "outputs": [],
   "source": [
    "x_train_N[otl_col] = np.log(x_train_N[otl_col]+0.0000001)"
   ]
  },
  {
   "cell_type": "code",
   "execution_count": 99,
   "id": "1ff5cb33-8a66-4b4c-bd71-7a70707c9f2f",
   "metadata": {
    "tags": []
   },
   "outputs": [],
   "source": [
    "x_test_N[otl_col] = np.log(x_test_N[otl_col]+0.0000001)"
   ]
  },
  {
   "cell_type": "code",
   "execution_count": 100,
   "id": "ac3fbcb7-94af-47a2-a4f5-a6a5e6968ca0",
   "metadata": {
    "tags": []
   },
   "outputs": [],
   "source": [
    "# createPolynomial features of num columns with outlier handel columns also\n",
    "\n",
    "poly = PolynomialFeatures((2,3))\n",
    "\n",
    "x_train_poly_I = pd.DataFrame(poly.fit_transform(x_train_N[i_num_col]), index = x_train_.index)\n",
    "x_test_poly_I = pd.DataFrame(poly.transform(x_test_N[i_num_col]), index = x_test_.index)"
   ]
  },
  {
   "cell_type": "code",
   "execution_count": 101,
   "id": "08945f93-cf04-484a-a6e4-ce7bac93808c",
   "metadata": {
    "tags": []
   },
   "outputs": [],
   "source": [
    "# StandardScaler, MinMaxScaler \n",
    "\n",
    "std = StandardScaler()\n",
    "x_train_poly_std_I = pd.DataFrame(std.fit_transform(x_train_poly_I), index = x_train.index)\n",
    "x_test_poly_std_I = pd.DataFrame(std.transform(x_test_poly_I), index = x_test.index)"
   ]
  },
  {
   "cell_type": "code",
   "execution_count": 102,
   "id": "efb71de4-f63b-483c-82ad-db12bc61c63b",
   "metadata": {
    "tags": []
   },
   "outputs": [],
   "source": [
    "# concat ohe ord and std_polynomial featurs for new x_train\n",
    "x_train_7 = pd.concat([x_train_ord ,x_train_ohe , x_train_poly_std_I], axis = 1)\n",
    "x_test_7 = pd.concat([x_test_ord , x_test_ohe , x_test_poly_std_I], axis = 1)"
   ]
  },
  {
   "cell_type": "code",
   "execution_count": 103,
   "id": "ea25716a-7099-4ea6-9331-a9816b11844b",
   "metadata": {
    "tags": []
   },
   "outputs": [
    {
     "data": {
      "text/html": [
       "<div>\n",
       "<style scoped>\n",
       "    .dataframe tbody tr th:only-of-type {\n",
       "        vertical-align: middle;\n",
       "    }\n",
       "\n",
       "    .dataframe tbody tr th {\n",
       "        vertical-align: top;\n",
       "    }\n",
       "\n",
       "    .dataframe thead th {\n",
       "        text-align: right;\n",
       "    }\n",
       "</style>\n",
       "<table border=\"1\" class=\"dataframe\">\n",
       "  <thead>\n",
       "    <tr style=\"text-align: right;\">\n",
       "      <th></th>\n",
       "      <th>method</th>\n",
       "      <th>train_r2</th>\n",
       "      <th>test_r2</th>\n",
       "      <th>train_adj_r2</th>\n",
       "      <th>test_adj_r2</th>\n",
       "      <th>train_mae</th>\n",
       "      <th>test_mae</th>\n",
       "    </tr>\n",
       "  </thead>\n",
       "  <tbody>\n",
       "    <tr>\n",
       "      <th>0</th>\n",
       "      <td>baseline</td>\n",
       "      <td>0.584668</td>\n",
       "      <td>0.575450</td>\n",
       "      <td>0.584206</td>\n",
       "      <td>0.573553</td>\n",
       "      <td>7.326350</td>\n",
       "      <td>7.449752</td>\n",
       "    </tr>\n",
       "    <tr>\n",
       "      <th>0</th>\n",
       "      <td>missing_value_impute and scaling</td>\n",
       "      <td>0.581353</td>\n",
       "      <td>0.567569</td>\n",
       "      <td>0.580955</td>\n",
       "      <td>0.565920</td>\n",
       "      <td>7.446236</td>\n",
       "      <td>7.299797</td>\n",
       "    </tr>\n",
       "    <tr>\n",
       "      <th>0</th>\n",
       "      <td>missing_value_impute and scaling and log of y</td>\n",
       "      <td>0.544321</td>\n",
       "      <td>0.528285</td>\n",
       "      <td>0.543888</td>\n",
       "      <td>0.526486</td>\n",
       "      <td>0.131534</td>\n",
       "      <td>0.128183</td>\n",
       "    </tr>\n",
       "    <tr>\n",
       "      <th>0</th>\n",
       "      <td>polynomail featurs of num col without scaling ...</td>\n",
       "      <td>0.615041</td>\n",
       "      <td>0.592340</td>\n",
       "      <td>0.613051</td>\n",
       "      <td>0.583777</td>\n",
       "      <td>7.056225</td>\n",
       "      <td>6.996530</td>\n",
       "    </tr>\n",
       "    <tr>\n",
       "      <th>0</th>\n",
       "      <td>polynomail featurs of num col with scaling and...</td>\n",
       "      <td>0.615042</td>\n",
       "      <td>0.592339</td>\n",
       "      <td>0.613052</td>\n",
       "      <td>0.583776</td>\n",
       "      <td>7.056169</td>\n",
       "      <td>6.996416</td>\n",
       "    </tr>\n",
       "    <tr>\n",
       "      <th>0</th>\n",
       "      <td>3 col ot handle and poly_std and impute</td>\n",
       "      <td>0.618135</td>\n",
       "      <td>0.595425</td>\n",
       "      <td>0.616161</td>\n",
       "      <td>0.586927</td>\n",
       "      <td>7.042016</td>\n",
       "      <td>6.982998</td>\n",
       "    </tr>\n",
       "    <tr>\n",
       "      <th>0</th>\n",
       "      <td>impute, ot handel yeo jhonson, poly feature, s...</td>\n",
       "      <td>0.614853</td>\n",
       "      <td>0.593960</td>\n",
       "      <td>0.612862</td>\n",
       "      <td>0.585431</td>\n",
       "      <td>7.047639</td>\n",
       "      <td>6.964144</td>\n",
       "    </tr>\n",
       "    <tr>\n",
       "      <th>0</th>\n",
       "      <td>important col with all previous good technique</td>\n",
       "      <td>0.608029</td>\n",
       "      <td>0.588135</td>\n",
       "      <td>0.607501</td>\n",
       "      <td>0.585907</td>\n",
       "      <td>7.131802</td>\n",
       "      <td>7.050533</td>\n",
       "    </tr>\n",
       "  </tbody>\n",
       "</table>\n",
       "</div>"
      ],
      "text/plain": [
       "                                              method  train_r2   test_r2  \\\n",
       "0                                           baseline  0.584668  0.575450   \n",
       "0                   missing_value_impute and scaling  0.581353  0.567569   \n",
       "0      missing_value_impute and scaling and log of y  0.544321  0.528285   \n",
       "0  polynomail featurs of num col without scaling ...  0.615041  0.592340   \n",
       "0  polynomail featurs of num col with scaling and...  0.615042  0.592339   \n",
       "0           3 col ot handle and poly_std and impute   0.618135  0.595425   \n",
       "0  impute, ot handel yeo jhonson, poly feature, s...  0.614853  0.593960   \n",
       "0     important col with all previous good technique  0.608029  0.588135   \n",
       "\n",
       "   train_adj_r2  test_adj_r2  train_mae  test_mae  \n",
       "0      0.584206     0.573553   7.326350  7.449752  \n",
       "0      0.580955     0.565920   7.446236  7.299797  \n",
       "0      0.543888     0.526486   0.131534  0.128183  \n",
       "0      0.613051     0.583777   7.056225  6.996530  \n",
       "0      0.613052     0.583776   7.056169  6.996416  \n",
       "0      0.616161     0.586927   7.042016  6.982998  \n",
       "0      0.612862     0.585431   7.047639  6.964144  \n",
       "0      0.607501     0.585907   7.131802  7.050533  "
      ]
     },
     "execution_count": 103,
     "metadata": {},
     "output_type": "execute_result"
    }
   ],
   "source": [
    "Evalution('important col with all previous good technique', x_train_7.values, x_test_7.values, y_train,y_test)"
   ]
  },
  {
   "cell_type": "code",
   "execution_count": null,
   "id": "63ee590e-8a4f-43b9-8d47-a25a4c73fc12",
   "metadata": {},
   "outputs": [],
   "source": []
  },
  {
   "cell_type": "code",
   "execution_count": null,
   "id": "2860e510-cdbe-4fdd-82c8-d642906f0718",
   "metadata": {},
   "outputs": [],
   "source": []
  },
  {
   "cell_type": "markdown",
   "id": "45b18bdc-3f92-421c-b346-370072e487f3",
   "metadata": {
    "tags": []
   },
   "source": [
    "## Highest r2 score that achived is 0.6181 in train and 0.5954 in test \n",
    "### with the method of (impute missing vlaues and handle 3 columns outliers and Polynomial features and standard scaling)\n",
    "#### so finally we will choose this method to train the model"
   ]
  },
  {
   "cell_type": "code",
   "execution_count": null,
   "id": "e1580c6d-921a-45e0-939f-a21e1516fa33",
   "metadata": {},
   "outputs": [],
   "source": []
  },
  {
   "cell_type": "code",
   "execution_count": 104,
   "id": "4541ccf2-6d98-41bd-8afa-6b0f39b73a53",
   "metadata": {
    "tags": []
   },
   "outputs": [],
   "source": [
    "x_train = train_df.drop(columns = 'Habitability_score')\n",
    "y_train = train_df['Habitability_score']\n",
    "x_test = test_df.copy()"
   ]
  },
  {
   "cell_type": "code",
   "execution_count": 105,
   "id": "c5147984-fb86-4ad9-9ff9-f3f9bfadb181",
   "metadata": {
    "tags": []
   },
   "outputs": [],
   "source": [
    "x_train.drop(columns = 'Id', inplace = True)\n",
    "x_test.drop(columns = 'Id', inplace = True)"
   ]
  },
  {
   "cell_type": "code",
   "execution_count": 106,
   "id": "da49e028-82cb-4e50-8e9e-116e36819312",
   "metadata": {
    "tags": []
   },
   "outputs": [
    {
     "data": {
      "text/plain": [
       "['Number_of_Windows',\n",
       " 'Furnishing',\n",
       " 'Frequency_of_Powercuts',\n",
       " 'Crime_Rate',\n",
       " 'Dust_and_Noise']"
      ]
     },
     "execution_count": 106,
     "metadata": {},
     "output_type": "execute_result"
    }
   ],
   "source": [
    "null_series = x_train.isnull().mean() * 100\n",
    "null_col = null_series[null_series>0].index.tolist()\n",
    "null_col"
   ]
  },
  {
   "cell_type": "code",
   "execution_count": 107,
   "id": "3dca53c4-8161-49b3-bde3-23ac907a2dbc",
   "metadata": {
    "tags": []
   },
   "outputs": [
    {
     "data": {
      "text/plain": [
       "['Property_Area',\n",
       " 'Number_of_Windows',\n",
       " 'Number_of_Doors',\n",
       " 'Frequency_of_Powercuts',\n",
       " 'Traffic_Density_Score',\n",
       " 'Air_Quality_Index',\n",
       " 'Neighborhood_Review']"
      ]
     },
     "execution_count": 107,
     "metadata": {},
     "output_type": "execute_result"
    }
   ],
   "source": [
    "num_coll = x_train.select_dtypes(exclude = 'O').columns.tolist()\n",
    "num_coll"
   ]
  },
  {
   "cell_type": "code",
   "execution_count": 108,
   "id": "003d44f8-2609-4ab8-bbdf-68949f960160",
   "metadata": {
    "tags": []
   },
   "outputs": [],
   "source": [
    "# handel na value in Number_of_Windows\n",
    "\n",
    "x_train['Number_of_Windows'] = x_train['Number_of_Windows'].fillna(round(x_train['Number_of_Windows'].mean(),0))\n",
    "x_test['Number_of_Windows'] = x_test['Number_of_Windows'].fillna(round(x_train['Number_of_Windows'].mean(),0))"
   ]
  },
  {
   "cell_type": "code",
   "execution_count": 109,
   "id": "4ff98f5e-981f-48d3-8a3d-d095e1ef68c7",
   "metadata": {
    "tags": []
   },
   "outputs": [],
   "source": [
    "# handel na values in 2 col Furnishing\n",
    "\n",
    "x_train['Furnishing'] = x_train['Furnishing'].fillna(x_train['Furnishing'].mode()[0])\n",
    "x_test['Furnishing'] = x_test['Furnishing'].fillna(x_train['Furnishing'].mode()[0])"
   ]
  },
  {
   "cell_type": "code",
   "execution_count": 110,
   "id": "4df1ecce-1a77-4681-a640-3fe3c776069c",
   "metadata": {
    "tags": []
   },
   "outputs": [
    {
     "data": {
      "text/html": [
       "<div>\n",
       "<style scoped>\n",
       "    .dataframe tbody tr th:only-of-type {\n",
       "        vertical-align: middle;\n",
       "    }\n",
       "\n",
       "    .dataframe tbody tr th {\n",
       "        vertical-align: top;\n",
       "    }\n",
       "\n",
       "    .dataframe thead th {\n",
       "        text-align: right;\n",
       "    }\n",
       "</style>\n",
       "<table border=\"1\" class=\"dataframe\">\n",
       "  <thead>\n",
       "    <tr style=\"text-align: right;\">\n",
       "      <th></th>\n",
       "      <th>Frequency_of_Powercuts</th>\n",
       "      <th>Neighborhood_Review</th>\n",
       "    </tr>\n",
       "  </thead>\n",
       "  <tbody>\n",
       "    <tr>\n",
       "      <th>6230</th>\n",
       "      <td>3.0</td>\n",
       "      <td>2.20</td>\n",
       "    </tr>\n",
       "    <tr>\n",
       "      <th>4465</th>\n",
       "      <td>3.0</td>\n",
       "      <td>1.00</td>\n",
       "    </tr>\n",
       "    <tr>\n",
       "      <th>20198</th>\n",
       "      <td>3.0</td>\n",
       "      <td>2.83</td>\n",
       "    </tr>\n",
       "    <tr>\n",
       "      <th>17778</th>\n",
       "      <td>3.0</td>\n",
       "      <td>0.72</td>\n",
       "    </tr>\n",
       "    <tr>\n",
       "      <th>17782</th>\n",
       "      <td>3.0</td>\n",
       "      <td>2.25</td>\n",
       "    </tr>\n",
       "    <tr>\n",
       "      <th>...</th>\n",
       "      <td>...</td>\n",
       "      <td>...</td>\n",
       "    </tr>\n",
       "    <tr>\n",
       "      <th>31475</th>\n",
       "      <td>NaN</td>\n",
       "      <td>2.26</td>\n",
       "    </tr>\n",
       "    <tr>\n",
       "      <th>31527</th>\n",
       "      <td>NaN</td>\n",
       "      <td>4.71</td>\n",
       "    </tr>\n",
       "    <tr>\n",
       "      <th>31537</th>\n",
       "      <td>NaN</td>\n",
       "      <td>3.48</td>\n",
       "    </tr>\n",
       "    <tr>\n",
       "      <th>31558</th>\n",
       "      <td>NaN</td>\n",
       "      <td>3.52</td>\n",
       "    </tr>\n",
       "    <tr>\n",
       "      <th>31593</th>\n",
       "      <td>NaN</td>\n",
       "      <td>3.23</td>\n",
       "    </tr>\n",
       "  </tbody>\n",
       "</table>\n",
       "<p>31599 rows × 2 columns</p>\n",
       "</div>"
      ],
      "text/plain": [
       "       Frequency_of_Powercuts  Neighborhood_Review\n",
       "6230                      3.0                 2.20\n",
       "4465                      3.0                 1.00\n",
       "20198                     3.0                 2.83\n",
       "17778                     3.0                 0.72\n",
       "17782                     3.0                 2.25\n",
       "...                       ...                  ...\n",
       "31475                     NaN                 2.26\n",
       "31527                     NaN                 4.71\n",
       "31537                     NaN                 3.48\n",
       "31558                     NaN                 3.52\n",
       "31593                     NaN                 3.23\n",
       "\n",
       "[31599 rows x 2 columns]"
      ]
     },
     "execution_count": 110,
     "metadata": {},
     "output_type": "execute_result"
    }
   ],
   "source": [
    "#  Frequency_of_Powercuts is co related with Neighborhood_Review so we take the avg power cut bassed on Neighborhood_Review and filled\n",
    "# with null values\n",
    "\n",
    "# exp - evg Frequency_of_Powercuts when  Neighborhood_Review 1 to 2 then with avg value with nan value   \n",
    "# handel na values in 3 column Frequency_of_Powercuts\n",
    "\n",
    "x_train[['Frequency_of_Powercuts','Neighborhood_Review']].sort_values(by = 'Frequency_of_Powercuts' , ascending = False)"
   ]
  },
  {
   "cell_type": "code",
   "execution_count": 111,
   "id": "470a3fea-86ab-4532-81cc-59e59e2a6a8a",
   "metadata": {
    "tags": []
   },
   "outputs": [],
   "source": [
    "a = x_train[['Frequency_of_Powercuts','Neighborhood_Review']]\n",
    "b = a.copy()\n",
    "\n",
    "c = x_test[['Frequency_of_Powercuts','Neighborhood_Review']]\n",
    "d = c.copy()"
   ]
  },
  {
   "cell_type": "code",
   "execution_count": 130,
   "id": "5c248ffc-4408-474a-af90-fb27d3920dd8",
   "metadata": {
    "tags": []
   },
   "outputs": [],
   "source": [
    "for i in range(5):\n",
    "    if i == 0:\n",
    "        mean = round(a[(a['Neighborhood_Review'] >= i) & (a['Neighborhood_Review'] <= i+1)].mean()[0],0)\n",
    "        a[(a['Neighborhood_Review'] >= i) & (a['Neighborhood_Review'] <= i+1)] = a[(a['Neighborhood_Review'] >= i) & (a['Neighborhood_Review'] <= i+1)].fillna(mean)\n",
    "        c[(c['Neighborhood_Review'] >= i) & (c['Neighborhood_Review'] <= i+1)] = c[(c['Neighborhood_Review'] >= i) & (c['Neighborhood_Review'] <= i+1)].fillna(mean)\n",
    "    else:\n",
    "        \n",
    "        mean = round(a[(a['Neighborhood_Review'] > i) & (a['Neighborhood_Review'] <= i+1)].mean()[0],0)\n",
    "        a[(a['Neighborhood_Review'] > i) & (a['Neighborhood_Review'] <= i+1)] = a[(a['Neighborhood_Review'] > i) & (a['Neighborhood_Review'] <= i+1)].fillna(mean)\n",
    "        c[(c['Neighborhood_Review'] > i) & (c['Neighborhood_Review'] <= i+1)] = c[(c['Neighborhood_Review'] > i) & (c['Neighborhood_Review'] <= i+1)].fillna(mean)"
   ]
  },
  {
   "cell_type": "code",
   "execution_count": 113,
   "id": "8703bc44-acf6-4348-84b8-d2a059f83ceb",
   "metadata": {
    "tags": []
   },
   "outputs": [],
   "source": [
    "x_train[['Frequency_of_Powercuts','Neighborhood_Review']] = a\n",
    "x_test[['Frequency_of_Powercuts','Neighborhood_Review']] = c"
   ]
  },
  {
   "cell_type": "code",
   "execution_count": 114,
   "id": "ade32d06-d463-490a-90c6-5c4391f86843",
   "metadata": {
    "tags": []
   },
   "outputs": [
    {
     "data": {
      "text/plain": [
       "Number_of_Windows           0\n",
       "Furnishing                  0\n",
       "Frequency_of_Powercuts      0\n",
       "Crime_Rate                629\n",
       "Dust_and_Noise            999\n",
       "dtype: int64"
      ]
     },
     "execution_count": 114,
     "metadata": {},
     "output_type": "execute_result"
    }
   ],
   "source": [
    "x_train[na_col].isnull().sum()"
   ]
  },
  {
   "cell_type": "code",
   "execution_count": 115,
   "id": "4d8c518c-bc4a-4194-bf31-36c45b329956",
   "metadata": {
    "tags": []
   },
   "outputs": [
    {
     "data": {
      "text/plain": [
       "Number_of_Windows           0\n",
       "Furnishing                  0\n",
       "Frequency_of_Powercuts      0\n",
       "Crime_Rate                158\n",
       "Dust_and_Noise            220\n",
       "dtype: int64"
      ]
     },
     "execution_count": 115,
     "metadata": {},
     "output_type": "execute_result"
    }
   ],
   "source": [
    "x_test[na_col].isnull().sum()"
   ]
  },
  {
   "cell_type": "code",
   "execution_count": 116,
   "id": "e6a731fb-7add-4764-b49f-fcca1f061292",
   "metadata": {
    "tags": []
   },
   "outputs": [],
   "source": [
    "# handel the 4 th column of missng values\n",
    "x_train['Crime_Rate'] = x_train['Crime_Rate'].fillna(x_train['Crime_Rate'].mode()[0])\n",
    "x_test['Crime_Rate'] = x_test['Crime_Rate'].fillna(x_train['Crime_Rate'].mode()[0])"
   ]
  },
  {
   "cell_type": "code",
   "execution_count": 117,
   "id": "e3df9b4b-8a48-402c-ab66-c027ae02b806",
   "metadata": {
    "tags": []
   },
   "outputs": [],
   "source": [
    "# handel the 5 the columns of missing values \n",
    "x_train['Dust_and_Noise'] = x_train['Dust_and_Noise'].fillna(x_train['Dust_and_Noise'].mode()[0])\n",
    "x_test['Dust_and_Noise'] = x_test['Dust_and_Noise'].fillna(x_train['Dust_and_Noise'].mode()[0])"
   ]
  },
  {
   "cell_type": "code",
   "execution_count": 118,
   "id": "673476b1-8f81-4bd4-b0de-41440330dc0b",
   "metadata": {
    "tags": []
   },
   "outputs": [
    {
     "data": {
      "text/plain": [
       "Property_Type             0\n",
       "Property_Area             0\n",
       "Number_of_Windows         0\n",
       "Number_of_Doors           0\n",
       "Furnishing                0\n",
       "Frequency_of_Powercuts    0\n",
       "Power_Backup              0\n",
       "Water_Supply              0\n",
       "Traffic_Density_Score     0\n",
       "Crime_Rate                0\n",
       "Dust_and_Noise            0\n",
       "Air_Quality_Index         0\n",
       "Neighborhood_Review       0\n",
       "dtype: int64"
      ]
     },
     "execution_count": 118,
     "metadata": {},
     "output_type": "execute_result"
    }
   ],
   "source": [
    "# checking is there any null vlaues left \n",
    "x_train.isnull().sum()"
   ]
  },
  {
   "cell_type": "code",
   "execution_count": 119,
   "id": "c750497c-c003-4513-8757-d59482f1d00a",
   "metadata": {
    "tags": []
   },
   "outputs": [
    {
     "data": {
      "text/plain": [
       "Property_Type             0\n",
       "Property_Area             0\n",
       "Number_of_Windows         0\n",
       "Number_of_Doors           0\n",
       "Furnishing                0\n",
       "Frequency_of_Powercuts    0\n",
       "Power_Backup              0\n",
       "Water_Supply              0\n",
       "Traffic_Density_Score     0\n",
       "Crime_Rate                0\n",
       "Dust_and_Noise            0\n",
       "Air_Quality_Index         0\n",
       "Neighborhood_Review       0\n",
       "dtype: int64"
      ]
     },
     "execution_count": 119,
     "metadata": {},
     "output_type": "execute_result"
    }
   ],
   "source": [
    "# checking is there any null vlaues left \n",
    "x_test.isnull().sum()"
   ]
  },
  {
   "cell_type": "code",
   "execution_count": 120,
   "id": "615e4b2b-8ce2-460c-9030-55d7ca20f05f",
   "metadata": {
    "tags": []
   },
   "outputs": [
    {
     "data": {
      "text/html": [
       "<div>\n",
       "<style scoped>\n",
       "    .dataframe tbody tr th:only-of-type {\n",
       "        vertical-align: middle;\n",
       "    }\n",
       "\n",
       "    .dataframe tbody tr th {\n",
       "        vertical-align: top;\n",
       "    }\n",
       "\n",
       "    .dataframe thead th {\n",
       "        text-align: right;\n",
       "    }\n",
       "</style>\n",
       "<table border=\"1\" class=\"dataframe\">\n",
       "  <thead>\n",
       "    <tr style=\"text-align: right;\">\n",
       "      <th></th>\n",
       "      <th>method</th>\n",
       "      <th>Column</th>\n",
       "      <th>No_of_outliers</th>\n",
       "      <th>Persantage_of_outliers</th>\n",
       "    </tr>\n",
       "  </thead>\n",
       "  <tbody>\n",
       "    <tr>\n",
       "      <th>0</th>\n",
       "      <td>IQR</td>\n",
       "      <td>Property_Area</td>\n",
       "      <td>1372.0</td>\n",
       "      <td>4.34</td>\n",
       "    </tr>\n",
       "    <tr>\n",
       "      <th>1</th>\n",
       "      <td>IQR</td>\n",
       "      <td>Number_of_Windows</td>\n",
       "      <td>1602.0</td>\n",
       "      <td>5.07</td>\n",
       "    </tr>\n",
       "    <tr>\n",
       "      <th>2</th>\n",
       "      <td>IQR</td>\n",
       "      <td>Number_of_Doors</td>\n",
       "      <td>0.0</td>\n",
       "      <td>0.00</td>\n",
       "    </tr>\n",
       "    <tr>\n",
       "      <th>3</th>\n",
       "      <td>IQR</td>\n",
       "      <td>Frequency_of_Powercuts</td>\n",
       "      <td>979.0</td>\n",
       "      <td>3.10</td>\n",
       "    </tr>\n",
       "    <tr>\n",
       "      <th>4</th>\n",
       "      <td>IQR</td>\n",
       "      <td>Traffic_Density_Score</td>\n",
       "      <td>447.0</td>\n",
       "      <td>1.41</td>\n",
       "    </tr>\n",
       "    <tr>\n",
       "      <th>5</th>\n",
       "      <td>IQR</td>\n",
       "      <td>Air_Quality_Index</td>\n",
       "      <td>628.0</td>\n",
       "      <td>1.99</td>\n",
       "    </tr>\n",
       "    <tr>\n",
       "      <th>6</th>\n",
       "      <td>IQR</td>\n",
       "      <td>Neighborhood_Review</td>\n",
       "      <td>554.0</td>\n",
       "      <td>1.75</td>\n",
       "    </tr>\n",
       "  </tbody>\n",
       "</table>\n",
       "</div>"
      ],
      "text/plain": [
       "  method                  Column  No_of_outliers  Persantage_of_outliers\n",
       "0    IQR           Property_Area          1372.0                    4.34\n",
       "1    IQR       Number_of_Windows          1602.0                    5.07\n",
       "2    IQR         Number_of_Doors             0.0                    0.00\n",
       "3    IQR  Frequency_of_Powercuts           979.0                    3.10\n",
       "4    IQR   Traffic_Density_Score           447.0                    1.41\n",
       "5    IQR       Air_Quality_Index           628.0                    1.99\n",
       "6    IQR     Neighborhood_Review           554.0                    1.75"
      ]
     },
     "execution_count": 120,
     "metadata": {},
     "output_type": "execute_result"
    }
   ],
   "source": [
    "CheckOutliers(x_train)"
   ]
  },
  {
   "cell_type": "code",
   "execution_count": 121,
   "id": "ece4dd4f-d797-4241-8b05-9826a33d8123",
   "metadata": {
    "tags": []
   },
   "outputs": [
    {
     "name": "stderr",
     "output_type": "stream",
     "text": [
      "C:\\Users\\HP\\anaconda3\\Lib\\site-packages\\pandas\\core\\internals\\blocks.py:351: RuntimeWarning: divide by zero encountered in log\n",
      "  result = func(self.values, **kwargs)\n",
      "C:\\Users\\HP\\anaconda3\\Lib\\site-packages\\numpy\\lib\\function_base.py:4573: RuntimeWarning: invalid value encountered in subtract\n",
      "  diff_b_a = subtract(b, a)\n"
     ]
    },
    {
     "data": {
      "text/html": [
       "<div>\n",
       "<style scoped>\n",
       "    .dataframe tbody tr th:only-of-type {\n",
       "        vertical-align: middle;\n",
       "    }\n",
       "\n",
       "    .dataframe tbody tr th {\n",
       "        vertical-align: top;\n",
       "    }\n",
       "\n",
       "    .dataframe thead th {\n",
       "        text-align: right;\n",
       "    }\n",
       "</style>\n",
       "<table border=\"1\" class=\"dataframe\">\n",
       "  <thead>\n",
       "    <tr style=\"text-align: right;\">\n",
       "      <th></th>\n",
       "      <th>method</th>\n",
       "      <th>Column</th>\n",
       "      <th>No_of_outliers</th>\n",
       "      <th>Persantage_of_outliers</th>\n",
       "    </tr>\n",
       "  </thead>\n",
       "  <tbody>\n",
       "    <tr>\n",
       "      <th>0</th>\n",
       "      <td>Z-Score</td>\n",
       "      <td>Property_Area</td>\n",
       "      <td>269.0</td>\n",
       "      <td>0.85</td>\n",
       "    </tr>\n",
       "    <tr>\n",
       "      <th>1</th>\n",
       "      <td>IQR</td>\n",
       "      <td>Number_of_Windows</td>\n",
       "      <td>571.0</td>\n",
       "      <td>1.81</td>\n",
       "    </tr>\n",
       "    <tr>\n",
       "      <th>2</th>\n",
       "      <td>Z-Score</td>\n",
       "      <td>Number_of_Doors</td>\n",
       "      <td>0.0</td>\n",
       "      <td>0.00</td>\n",
       "    </tr>\n",
       "    <tr>\n",
       "      <th>3</th>\n",
       "      <td>IQR</td>\n",
       "      <td>Frequency_of_Powercuts</td>\n",
       "      <td>0.0</td>\n",
       "      <td>0.00</td>\n",
       "    </tr>\n",
       "    <tr>\n",
       "      <th>4</th>\n",
       "      <td>IQR</td>\n",
       "      <td>Traffic_Density_Score</td>\n",
       "      <td>1025.0</td>\n",
       "      <td>3.24</td>\n",
       "    </tr>\n",
       "    <tr>\n",
       "      <th>5</th>\n",
       "      <td>IQR</td>\n",
       "      <td>Air_Quality_Index</td>\n",
       "      <td>960.0</td>\n",
       "      <td>3.04</td>\n",
       "    </tr>\n",
       "    <tr>\n",
       "      <th>6</th>\n",
       "      <td>IQR</td>\n",
       "      <td>Neighborhood_Review</td>\n",
       "      <td>1128.0</td>\n",
       "      <td>3.57</td>\n",
       "    </tr>\n",
       "  </tbody>\n",
       "</table>\n",
       "</div>"
      ],
      "text/plain": [
       "    method                  Column  No_of_outliers  Persantage_of_outliers\n",
       "0  Z-Score           Property_Area           269.0                    0.85\n",
       "1      IQR       Number_of_Windows           571.0                    1.81\n",
       "2  Z-Score         Number_of_Doors             0.0                    0.00\n",
       "3      IQR  Frequency_of_Powercuts             0.0                    0.00\n",
       "4      IQR   Traffic_Density_Score          1025.0                    3.24\n",
       "5      IQR       Air_Quality_Index           960.0                    3.04\n",
       "6      IQR     Neighborhood_Review          1128.0                    3.57"
      ]
     },
     "execution_count": 121,
     "metadata": {},
     "output_type": "execute_result"
    }
   ],
   "source": [
    "CheckOutliers(np.log(x_train[num_coll]))"
   ]
  },
  {
   "cell_type": "code",
   "execution_count": 122,
   "id": "b04a3892-053e-4314-a30e-4313d9478e81",
   "metadata": {
    "tags": []
   },
   "outputs": [],
   "source": [
    "# after log transformation only 3 columns oulier reduace so we only transform 3 columns \n",
    "\n",
    "ot_col = ['Property_Area','Number_of_Windows','Frequency_of_Powercuts']"
   ]
  },
  {
   "cell_type": "code",
   "execution_count": 123,
   "id": "015d3348-0f76-455e-911c-b2346175bcc3",
   "metadata": {
    "tags": []
   },
   "outputs": [],
   "source": [
    "x_train[ot_col] = np.log(x_train[ot_col]+0.0000001)\n",
    "x_test[ot_col] = np.log(x_test[ot_col]+0.0000001)"
   ]
  },
  {
   "cell_type": "code",
   "execution_count": 124,
   "id": "f18e89df-c059-4f25-a7a1-8de3a0349d66",
   "metadata": {
    "tags": []
   },
   "outputs": [],
   "source": [
    "poly = PolynomialFeatures((2,3))\n",
    "x_train_p = pd.DataFrame(poly.fit_transform(x_train[num_coll]), index = x_train.index)\n",
    "x_test_p = pd.DataFrame(poly.transform(x_test[num_coll]), index = x_test.index)"
   ]
  },
  {
   "cell_type": "code",
   "execution_count": 125,
   "id": "f3e7b50e-8573-4170-ba78-0895e05d3fa7",
   "metadata": {
    "tags": []
   },
   "outputs": [],
   "source": [
    "# StandardScaler, MinMaxScaler \n",
    "\n",
    "std = StandardScaler()\n",
    "x_train_p_s = pd.DataFrame(std.fit_transform(x_train_p), index = x_train.index)\n",
    "x_test_p_s = pd.DataFrame(std.transform(x_test_p), index = x_test.index)"
   ]
  },
  {
   "cell_type": "code",
   "execution_count": 126,
   "id": "007fb34a-a21e-42b2-b3c1-764c5fa7a639",
   "metadata": {
    "tags": []
   },
   "outputs": [],
   "source": [
    "# encoding \n",
    "ohe_col = ['Property_Type','Power_Backup','Water_Supply']\n",
    "ord_col = ['Furnishing','Crime_Rate','Dust_and_Noise']"
   ]
  },
  {
   "cell_type": "code",
   "execution_count": 127,
   "id": "108a86b9-81f0-4fc6-bf05-358120872cb5",
   "metadata": {
    "tags": []
   },
   "outputs": [],
   "source": [
    "ord = OrdinalEncoder(categories = [['Unfurnished','Semi_Furnished','Fully Furnished'],\n",
    "                                   ['Well below average','Slightly below average','Slightly above average','Well above average'],\n",
    "                                  ['Low','Medium','High']], handle_unknown = 'use_encoded_value', unknown_value = -1)\n",
    "\n",
    "x_train_ordd = pd.DataFrame(ord.fit_transform(x_train[ord_col]), index = x_train.index, columns = ord_col)\n",
    "x_test_ordd = pd.DataFrame(ord.transform(x_test[ord_col]), index = x_test.index, columns = ord_col)"
   ]
  },
  {
   "cell_type": "code",
   "execution_count": 128,
   "id": "17eb0ba0-9297-4440-b6f5-8a312a50a36b",
   "metadata": {
    "tags": []
   },
   "outputs": [],
   "source": [
    "ohe = OneHotEncoder(sparse_output = False,  handle_unknown ='ignore')\n",
    "x_train_ohee = pd.DataFrame(ohe.fit_transform(x_train[ohe_col]), index = x_train.index, columns = ohe.get_feature_names_out())\n",
    "x_test_ohee = pd.DataFrame(ohe.transform(x_test[ohe_col]), index = x_test.index, columns = ohe.get_feature_names_out())"
   ]
  },
  {
   "cell_type": "code",
   "execution_count": 131,
   "id": "d5ef8105-894a-4738-8e01-a4269835539e",
   "metadata": {},
   "outputs": [],
   "source": [
    "# creating x_train_fl with ohe ord and std_scl columns \n",
    "\n",
    "x_train_ff = pd.concat([x_train_ordd,x_train_ohee,x_train_p_s], axis = 1)\n",
    "x_test_ff = pd.concat([x_test_ordd,x_test_ohee,x_test_p_s], axis = 1)"
   ]
  },
  {
   "cell_type": "code",
   "execution_count": 134,
   "id": "fa51d528-1405-4aba-90a4-03dca333b0db",
   "metadata": {
    "tags": []
   },
   "outputs": [
    {
     "data": {
      "text/html": [
       "<style>#sk-container-id-1 {\n",
       "  /* Definition of color scheme common for light and dark mode */\n",
       "  --sklearn-color-text: black;\n",
       "  --sklearn-color-line: gray;\n",
       "  /* Definition of color scheme for unfitted estimators */\n",
       "  --sklearn-color-unfitted-level-0: #fff5e6;\n",
       "  --sklearn-color-unfitted-level-1: #f6e4d2;\n",
       "  --sklearn-color-unfitted-level-2: #ffe0b3;\n",
       "  --sklearn-color-unfitted-level-3: chocolate;\n",
       "  /* Definition of color scheme for fitted estimators */\n",
       "  --sklearn-color-fitted-level-0: #f0f8ff;\n",
       "  --sklearn-color-fitted-level-1: #d4ebff;\n",
       "  --sklearn-color-fitted-level-2: #b3dbfd;\n",
       "  --sklearn-color-fitted-level-3: cornflowerblue;\n",
       "\n",
       "  /* Specific color for light theme */\n",
       "  --sklearn-color-text-on-default-background: var(--sg-text-color, var(--theme-code-foreground, var(--jp-content-font-color1, black)));\n",
       "  --sklearn-color-background: var(--sg-background-color, var(--theme-background, var(--jp-layout-color0, white)));\n",
       "  --sklearn-color-border-box: var(--sg-text-color, var(--theme-code-foreground, var(--jp-content-font-color1, black)));\n",
       "  --sklearn-color-icon: #696969;\n",
       "\n",
       "  @media (prefers-color-scheme: dark) {\n",
       "    /* Redefinition of color scheme for dark theme */\n",
       "    --sklearn-color-text-on-default-background: var(--sg-text-color, var(--theme-code-foreground, var(--jp-content-font-color1, white)));\n",
       "    --sklearn-color-background: var(--sg-background-color, var(--theme-background, var(--jp-layout-color0, #111)));\n",
       "    --sklearn-color-border-box: var(--sg-text-color, var(--theme-code-foreground, var(--jp-content-font-color1, white)));\n",
       "    --sklearn-color-icon: #878787;\n",
       "  }\n",
       "}\n",
       "\n",
       "#sk-container-id-1 {\n",
       "  color: var(--sklearn-color-text);\n",
       "}\n",
       "\n",
       "#sk-container-id-1 pre {\n",
       "  padding: 0;\n",
       "}\n",
       "\n",
       "#sk-container-id-1 input.sk-hidden--visually {\n",
       "  border: 0;\n",
       "  clip: rect(1px 1px 1px 1px);\n",
       "  clip: rect(1px, 1px, 1px, 1px);\n",
       "  height: 1px;\n",
       "  margin: -1px;\n",
       "  overflow: hidden;\n",
       "  padding: 0;\n",
       "  position: absolute;\n",
       "  width: 1px;\n",
       "}\n",
       "\n",
       "#sk-container-id-1 div.sk-dashed-wrapped {\n",
       "  border: 1px dashed var(--sklearn-color-line);\n",
       "  margin: 0 0.4em 0.5em 0.4em;\n",
       "  box-sizing: border-box;\n",
       "  padding-bottom: 0.4em;\n",
       "  background-color: var(--sklearn-color-background);\n",
       "}\n",
       "\n",
       "#sk-container-id-1 div.sk-container {\n",
       "  /* jupyter's `normalize.less` sets `[hidden] { display: none; }`\n",
       "     but bootstrap.min.css set `[hidden] { display: none !important; }`\n",
       "     so we also need the `!important` here to be able to override the\n",
       "     default hidden behavior on the sphinx rendered scikit-learn.org.\n",
       "     See: https://github.com/scikit-learn/scikit-learn/issues/21755 */\n",
       "  display: inline-block !important;\n",
       "  position: relative;\n",
       "}\n",
       "\n",
       "#sk-container-id-1 div.sk-text-repr-fallback {\n",
       "  display: none;\n",
       "}\n",
       "\n",
       "div.sk-parallel-item,\n",
       "div.sk-serial,\n",
       "div.sk-item {\n",
       "  /* draw centered vertical line to link estimators */\n",
       "  background-image: linear-gradient(var(--sklearn-color-text-on-default-background), var(--sklearn-color-text-on-default-background));\n",
       "  background-size: 2px 100%;\n",
       "  background-repeat: no-repeat;\n",
       "  background-position: center center;\n",
       "}\n",
       "\n",
       "/* Parallel-specific style estimator block */\n",
       "\n",
       "#sk-container-id-1 div.sk-parallel-item::after {\n",
       "  content: \"\";\n",
       "  width: 100%;\n",
       "  border-bottom: 2px solid var(--sklearn-color-text-on-default-background);\n",
       "  flex-grow: 1;\n",
       "}\n",
       "\n",
       "#sk-container-id-1 div.sk-parallel {\n",
       "  display: flex;\n",
       "  align-items: stretch;\n",
       "  justify-content: center;\n",
       "  background-color: var(--sklearn-color-background);\n",
       "  position: relative;\n",
       "}\n",
       "\n",
       "#sk-container-id-1 div.sk-parallel-item {\n",
       "  display: flex;\n",
       "  flex-direction: column;\n",
       "}\n",
       "\n",
       "#sk-container-id-1 div.sk-parallel-item:first-child::after {\n",
       "  align-self: flex-end;\n",
       "  width: 50%;\n",
       "}\n",
       "\n",
       "#sk-container-id-1 div.sk-parallel-item:last-child::after {\n",
       "  align-self: flex-start;\n",
       "  width: 50%;\n",
       "}\n",
       "\n",
       "#sk-container-id-1 div.sk-parallel-item:only-child::after {\n",
       "  width: 0;\n",
       "}\n",
       "\n",
       "/* Serial-specific style estimator block */\n",
       "\n",
       "#sk-container-id-1 div.sk-serial {\n",
       "  display: flex;\n",
       "  flex-direction: column;\n",
       "  align-items: center;\n",
       "  background-color: var(--sklearn-color-background);\n",
       "  padding-right: 1em;\n",
       "  padding-left: 1em;\n",
       "}\n",
       "\n",
       "\n",
       "/* Toggleable style: style used for estimator/Pipeline/ColumnTransformer box that is\n",
       "clickable and can be expanded/collapsed.\n",
       "- Pipeline and ColumnTransformer use this feature and define the default style\n",
       "- Estimators will overwrite some part of the style using the `sk-estimator` class\n",
       "*/\n",
       "\n",
       "/* Pipeline and ColumnTransformer style (default) */\n",
       "\n",
       "#sk-container-id-1 div.sk-toggleable {\n",
       "  /* Default theme specific background. It is overwritten whether we have a\n",
       "  specific estimator or a Pipeline/ColumnTransformer */\n",
       "  background-color: var(--sklearn-color-background);\n",
       "}\n",
       "\n",
       "/* Toggleable label */\n",
       "#sk-container-id-1 label.sk-toggleable__label {\n",
       "  cursor: pointer;\n",
       "  display: block;\n",
       "  width: 100%;\n",
       "  margin-bottom: 0;\n",
       "  padding: 0.5em;\n",
       "  box-sizing: border-box;\n",
       "  text-align: center;\n",
       "}\n",
       "\n",
       "#sk-container-id-1 label.sk-toggleable__label-arrow:before {\n",
       "  /* Arrow on the left of the label */\n",
       "  content: \"▸\";\n",
       "  float: left;\n",
       "  margin-right: 0.25em;\n",
       "  color: var(--sklearn-color-icon);\n",
       "}\n",
       "\n",
       "#sk-container-id-1 label.sk-toggleable__label-arrow:hover:before {\n",
       "  color: var(--sklearn-color-text);\n",
       "}\n",
       "\n",
       "/* Toggleable content - dropdown */\n",
       "\n",
       "#sk-container-id-1 div.sk-toggleable__content {\n",
       "  max-height: 0;\n",
       "  max-width: 0;\n",
       "  overflow: hidden;\n",
       "  text-align: left;\n",
       "  /* unfitted */\n",
       "  background-color: var(--sklearn-color-unfitted-level-0);\n",
       "}\n",
       "\n",
       "#sk-container-id-1 div.sk-toggleable__content.fitted {\n",
       "  /* fitted */\n",
       "  background-color: var(--sklearn-color-fitted-level-0);\n",
       "}\n",
       "\n",
       "#sk-container-id-1 div.sk-toggleable__content pre {\n",
       "  margin: 0.2em;\n",
       "  border-radius: 0.25em;\n",
       "  color: var(--sklearn-color-text);\n",
       "  /* unfitted */\n",
       "  background-color: var(--sklearn-color-unfitted-level-0);\n",
       "}\n",
       "\n",
       "#sk-container-id-1 div.sk-toggleable__content.fitted pre {\n",
       "  /* unfitted */\n",
       "  background-color: var(--sklearn-color-fitted-level-0);\n",
       "}\n",
       "\n",
       "#sk-container-id-1 input.sk-toggleable__control:checked~div.sk-toggleable__content {\n",
       "  /* Expand drop-down */\n",
       "  max-height: 200px;\n",
       "  max-width: 100%;\n",
       "  overflow: auto;\n",
       "}\n",
       "\n",
       "#sk-container-id-1 input.sk-toggleable__control:checked~label.sk-toggleable__label-arrow:before {\n",
       "  content: \"▾\";\n",
       "}\n",
       "\n",
       "/* Pipeline/ColumnTransformer-specific style */\n",
       "\n",
       "#sk-container-id-1 div.sk-label input.sk-toggleable__control:checked~label.sk-toggleable__label {\n",
       "  color: var(--sklearn-color-text);\n",
       "  background-color: var(--sklearn-color-unfitted-level-2);\n",
       "}\n",
       "\n",
       "#sk-container-id-1 div.sk-label.fitted input.sk-toggleable__control:checked~label.sk-toggleable__label {\n",
       "  background-color: var(--sklearn-color-fitted-level-2);\n",
       "}\n",
       "\n",
       "/* Estimator-specific style */\n",
       "\n",
       "/* Colorize estimator box */\n",
       "#sk-container-id-1 div.sk-estimator input.sk-toggleable__control:checked~label.sk-toggleable__label {\n",
       "  /* unfitted */\n",
       "  background-color: var(--sklearn-color-unfitted-level-2);\n",
       "}\n",
       "\n",
       "#sk-container-id-1 div.sk-estimator.fitted input.sk-toggleable__control:checked~label.sk-toggleable__label {\n",
       "  /* fitted */\n",
       "  background-color: var(--sklearn-color-fitted-level-2);\n",
       "}\n",
       "\n",
       "#sk-container-id-1 div.sk-label label.sk-toggleable__label,\n",
       "#sk-container-id-1 div.sk-label label {\n",
       "  /* The background is the default theme color */\n",
       "  color: var(--sklearn-color-text-on-default-background);\n",
       "}\n",
       "\n",
       "/* On hover, darken the color of the background */\n",
       "#sk-container-id-1 div.sk-label:hover label.sk-toggleable__label {\n",
       "  color: var(--sklearn-color-text);\n",
       "  background-color: var(--sklearn-color-unfitted-level-2);\n",
       "}\n",
       "\n",
       "/* Label box, darken color on hover, fitted */\n",
       "#sk-container-id-1 div.sk-label.fitted:hover label.sk-toggleable__label.fitted {\n",
       "  color: var(--sklearn-color-text);\n",
       "  background-color: var(--sklearn-color-fitted-level-2);\n",
       "}\n",
       "\n",
       "/* Estimator label */\n",
       "\n",
       "#sk-container-id-1 div.sk-label label {\n",
       "  font-family: monospace;\n",
       "  font-weight: bold;\n",
       "  display: inline-block;\n",
       "  line-height: 1.2em;\n",
       "}\n",
       "\n",
       "#sk-container-id-1 div.sk-label-container {\n",
       "  text-align: center;\n",
       "}\n",
       "\n",
       "/* Estimator-specific */\n",
       "#sk-container-id-1 div.sk-estimator {\n",
       "  font-family: monospace;\n",
       "  border: 1px dotted var(--sklearn-color-border-box);\n",
       "  border-radius: 0.25em;\n",
       "  box-sizing: border-box;\n",
       "  margin-bottom: 0.5em;\n",
       "  /* unfitted */\n",
       "  background-color: var(--sklearn-color-unfitted-level-0);\n",
       "}\n",
       "\n",
       "#sk-container-id-1 div.sk-estimator.fitted {\n",
       "  /* fitted */\n",
       "  background-color: var(--sklearn-color-fitted-level-0);\n",
       "}\n",
       "\n",
       "/* on hover */\n",
       "#sk-container-id-1 div.sk-estimator:hover {\n",
       "  /* unfitted */\n",
       "  background-color: var(--sklearn-color-unfitted-level-2);\n",
       "}\n",
       "\n",
       "#sk-container-id-1 div.sk-estimator.fitted:hover {\n",
       "  /* fitted */\n",
       "  background-color: var(--sklearn-color-fitted-level-2);\n",
       "}\n",
       "\n",
       "/* Specification for estimator info (e.g. \"i\" and \"?\") */\n",
       "\n",
       "/* Common style for \"i\" and \"?\" */\n",
       "\n",
       ".sk-estimator-doc-link,\n",
       "a:link.sk-estimator-doc-link,\n",
       "a:visited.sk-estimator-doc-link {\n",
       "  float: right;\n",
       "  font-size: smaller;\n",
       "  line-height: 1em;\n",
       "  font-family: monospace;\n",
       "  background-color: var(--sklearn-color-background);\n",
       "  border-radius: 1em;\n",
       "  height: 1em;\n",
       "  width: 1em;\n",
       "  text-decoration: none !important;\n",
       "  margin-left: 1ex;\n",
       "  /* unfitted */\n",
       "  border: var(--sklearn-color-unfitted-level-1) 1pt solid;\n",
       "  color: var(--sklearn-color-unfitted-level-1);\n",
       "}\n",
       "\n",
       ".sk-estimator-doc-link.fitted,\n",
       "a:link.sk-estimator-doc-link.fitted,\n",
       "a:visited.sk-estimator-doc-link.fitted {\n",
       "  /* fitted */\n",
       "  border: var(--sklearn-color-fitted-level-1) 1pt solid;\n",
       "  color: var(--sklearn-color-fitted-level-1);\n",
       "}\n",
       "\n",
       "/* On hover */\n",
       "div.sk-estimator:hover .sk-estimator-doc-link:hover,\n",
       ".sk-estimator-doc-link:hover,\n",
       "div.sk-label-container:hover .sk-estimator-doc-link:hover,\n",
       ".sk-estimator-doc-link:hover {\n",
       "  /* unfitted */\n",
       "  background-color: var(--sklearn-color-unfitted-level-3);\n",
       "  color: var(--sklearn-color-background);\n",
       "  text-decoration: none;\n",
       "}\n",
       "\n",
       "div.sk-estimator.fitted:hover .sk-estimator-doc-link.fitted:hover,\n",
       ".sk-estimator-doc-link.fitted:hover,\n",
       "div.sk-label-container:hover .sk-estimator-doc-link.fitted:hover,\n",
       ".sk-estimator-doc-link.fitted:hover {\n",
       "  /* fitted */\n",
       "  background-color: var(--sklearn-color-fitted-level-3);\n",
       "  color: var(--sklearn-color-background);\n",
       "  text-decoration: none;\n",
       "}\n",
       "\n",
       "/* Span, style for the box shown on hovering the info icon */\n",
       ".sk-estimator-doc-link span {\n",
       "  display: none;\n",
       "  z-index: 9999;\n",
       "  position: relative;\n",
       "  font-weight: normal;\n",
       "  right: .2ex;\n",
       "  padding: .5ex;\n",
       "  margin: .5ex;\n",
       "  width: min-content;\n",
       "  min-width: 20ex;\n",
       "  max-width: 50ex;\n",
       "  color: var(--sklearn-color-text);\n",
       "  box-shadow: 2pt 2pt 4pt #999;\n",
       "  /* unfitted */\n",
       "  background: var(--sklearn-color-unfitted-level-0);\n",
       "  border: .5pt solid var(--sklearn-color-unfitted-level-3);\n",
       "}\n",
       "\n",
       ".sk-estimator-doc-link.fitted span {\n",
       "  /* fitted */\n",
       "  background: var(--sklearn-color-fitted-level-0);\n",
       "  border: var(--sklearn-color-fitted-level-3);\n",
       "}\n",
       "\n",
       ".sk-estimator-doc-link:hover span {\n",
       "  display: block;\n",
       "}\n",
       "\n",
       "/* \"?\"-specific style due to the `<a>` HTML tag */\n",
       "\n",
       "#sk-container-id-1 a.estimator_doc_link {\n",
       "  float: right;\n",
       "  font-size: 1rem;\n",
       "  line-height: 1em;\n",
       "  font-family: monospace;\n",
       "  background-color: var(--sklearn-color-background);\n",
       "  border-radius: 1rem;\n",
       "  height: 1rem;\n",
       "  width: 1rem;\n",
       "  text-decoration: none;\n",
       "  /* unfitted */\n",
       "  color: var(--sklearn-color-unfitted-level-1);\n",
       "  border: var(--sklearn-color-unfitted-level-1) 1pt solid;\n",
       "}\n",
       "\n",
       "#sk-container-id-1 a.estimator_doc_link.fitted {\n",
       "  /* fitted */\n",
       "  border: var(--sklearn-color-fitted-level-1) 1pt solid;\n",
       "  color: var(--sklearn-color-fitted-level-1);\n",
       "}\n",
       "\n",
       "/* On hover */\n",
       "#sk-container-id-1 a.estimator_doc_link:hover {\n",
       "  /* unfitted */\n",
       "  background-color: var(--sklearn-color-unfitted-level-3);\n",
       "  color: var(--sklearn-color-background);\n",
       "  text-decoration: none;\n",
       "}\n",
       "\n",
       "#sk-container-id-1 a.estimator_doc_link.fitted:hover {\n",
       "  /* fitted */\n",
       "  background-color: var(--sklearn-color-fitted-level-3);\n",
       "}\n",
       "</style><div id=\"sk-container-id-1\" class=\"sk-top-container\"><div class=\"sk-text-repr-fallback\"><pre>LinearRegression()</pre><b>In a Jupyter environment, please rerun this cell to show the HTML representation or trust the notebook. <br />On GitHub, the HTML representation is unable to render, please try loading this page with nbviewer.org.</b></div><div class=\"sk-container\" hidden><div class=\"sk-item\"><div class=\"sk-estimator fitted sk-toggleable\"><input class=\"sk-toggleable__control sk-hidden--visually\" id=\"sk-estimator-id-1\" type=\"checkbox\" checked><label for=\"sk-estimator-id-1\" class=\"sk-toggleable__label fitted sk-toggleable__label-arrow fitted\">&nbsp;&nbsp;LinearRegression<a class=\"sk-estimator-doc-link fitted\" rel=\"noreferrer\" target=\"_blank\" href=\"https://scikit-learn.org/1.4/modules/generated/sklearn.linear_model.LinearRegression.html\">?<span>Documentation for LinearRegression</span></a><span class=\"sk-estimator-doc-link fitted\">i<span>Fitted</span></span></label><div class=\"sk-toggleable__content fitted\"><pre>LinearRegression()</pre></div> </div></div></div></div>"
      ],
      "text/plain": [
       "LinearRegression()"
      ]
     },
     "execution_count": 134,
     "metadata": {},
     "output_type": "execute_result"
    }
   ],
   "source": [
    "# model train \n",
    "l_model= LinearRegression()\n",
    "l_model.fit(x_train_ff.values,y_train)"
   ]
  },
  {
   "cell_type": "code",
   "execution_count": 135,
   "id": "ef5c4f0f-ab6e-4ba4-8e84-a4a713645fe1",
   "metadata": {
    "tags": []
   },
   "outputs": [],
   "source": [
    "y_pred = l_model.predict(x_test_ff.values)"
   ]
  },
  {
   "cell_type": "code",
   "execution_count": 149,
   "id": "9d3e3513-e5e3-452e-a796-98b31d496a13",
   "metadata": {
    "tags": []
   },
   "outputs": [],
   "source": [
    "test_df['Habitability_score'] = y_pred"
   ]
  },
  {
   "cell_type": "code",
   "execution_count": 152,
   "id": "6fe107b2-2f61-476a-a383-9d3bfac027ae",
   "metadata": {
    "tags": []
   },
   "outputs": [],
   "source": [
    "result_df = test_df[['Id',\"Habitability_score\"]]"
   ]
  },
  {
   "cell_type": "code",
   "execution_count": 153,
   "id": "2602f849-8a71-4510-a77a-7d45f4353912",
   "metadata": {
    "tags": []
   },
   "outputs": [],
   "source": [
    "# Export DataFrame to CSV\n",
    "result_df.to_csv('output_file.csv', index=False)"
   ]
  },
  {
   "cell_type": "code",
   "execution_count": null,
   "id": "064f98e1-5b8c-47d5-bde7-8982b775461d",
   "metadata": {},
   "outputs": [],
   "source": []
  }
 ],
 "metadata": {
  "kernelspec": {
   "display_name": "Python 3 (ipykernel)",
   "language": "python",
   "name": "python3"
  },
  "language_info": {
   "codemirror_mode": {
    "name": "ipython",
    "version": 3
   },
   "file_extension": ".py",
   "mimetype": "text/x-python",
   "name": "python",
   "nbconvert_exporter": "python",
   "pygments_lexer": "ipython3",
   "version": "3.11.4"
  }
 },
 "nbformat": 4,
 "nbformat_minor": 5
}
